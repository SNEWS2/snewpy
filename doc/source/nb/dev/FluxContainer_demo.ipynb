{
 "cells": [
  {
   "cell_type": "code",
   "execution_count": null,
   "id": "97774e5c-1aa9-4837-a0e0-d7779899e42f",
   "metadata": {},
   "outputs": [],
   "source": [
    "import numpy as np\n",
    "from astropy import units as u\n",
    "from snewpy.models import presn, ccsn\n",
    "from snewpy.neutrino import Flavor\n",
    "\n",
    "import pylab as plt\n",
    "from contextlib import contextmanager"
   ]
  },
  {
   "cell_type": "code",
   "execution_count": null,
   "id": "60602bc2-e42e-4a6b-851b-e3ef18ecee47",
   "metadata": {},
   "outputs": [],
   "source": [
    "@contextmanager\n",
    "def raises(exception):\n",
    "    \"A small utility to catch and show the exceptions\"\n",
    "    try:\n",
    "        yield\n",
    "    except exception as e:\n",
    "        print(f'{exception.__name__}: {e}')\n",
    "    "
   ]
  },
  {
   "cell_type": "markdown",
   "id": "58cc1f01-6cb6-483f-9021-deaa305a02e5",
   "metadata": {},
   "source": [
    "# Usage of flux.Container interface"
   ]
  },
  {
   "cell_type": "markdown",
   "id": "2534469c-9e26-429f-97d1-440b1ba3379c",
   "metadata": {},
   "source": [
    "## 1. Initialize model"
   ]
  },
  {
   "cell_type": "code",
   "execution_count": null,
   "id": "f3f749f5-b82f-42c1-b1cf-8606005c5e76",
   "metadata": {
    "editable": true,
    "slideshow": {
     "slide_type": ""
    },
    "tags": []
   },
   "outputs": [],
   "source": [
    "model = ccsn.Bollig_2016(progenitor_mass=27<<u.Msun)\n",
    "\n",
    "times    = model.time #np.linspace(0,2,1500)<<u.second;\n",
    "energies = np.linspace(0,50,501)<<u.MeV"
   ]
  },
  {
   "cell_type": "markdown",
   "id": "1d3ac52f-9766-48de-8aeb-fefb0d51a338",
   "metadata": {},
   "source": [
    "## 2. Calculate flux"
   ]
  },
  {
   "cell_type": "code",
   "execution_count": null,
   "id": "54e252f0-969b-4b40-a9c9-db60df9dc46f",
   "metadata": {
    "editable": true,
    "slideshow": {
     "slide_type": ""
    },
    "tags": []
   },
   "outputs": [],
   "source": [
    "flux = model.get_flux(t = times, E = energies, distance=10<<u.kpc)"
   ]
  },
  {
   "cell_type": "markdown",
   "id": "be256bc2-3707-47bd-ab15-173eb46cb98f",
   "metadata": {},
   "source": [
    "## Working with the Container class\n",
    "\n",
    "The container class is defined in `snewpy.flux.Container`"
   ]
  },
  {
   "cell_type": "code",
   "execution_count": null,
   "id": "56fa3f27-ce67-459f-a2dd-7f5e32713ab5",
   "metadata": {},
   "outputs": [],
   "source": [
    "from snewpy.flux import Container\n",
    "\n",
    "Container?"
   ]
  },
  {
   "attachments": {},
   "cell_type": "markdown",
   "id": "2597b62d-a0e4-4708-b9ea-7c7a10df1618",
   "metadata": {},
   "source": [
    "### Inspection\n",
    "\n",
    "We will use the flux container, obtained from the SupernovaModel on the previous step.\n",
    "\n",
    "On print the Container gives an output, describing it's `array` dimensions, unit (here it's `[1/(cm2 MeV s)]`), and the range of each of three axes: `flavor`, `time` and `energy`"
   ]
  },
  {
   "cell_type": "code",
   "execution_count": null,
   "id": "9875d016-6ce3-4870-aec9-7b845956e7f4",
   "metadata": {},
   "outputs": [],
   "source": [
    "print(flux)"
   ]
  },
  {
   "cell_type": "markdown",
   "id": "7a042f15-0064-4867-a2f8-e552d74dab71",
   "metadata": {},
   "source": [
    "One can access the array, as a `astropy.Quantity` object:"
   ]
  },
  {
   "cell_type": "code",
   "execution_count": null,
   "id": "14e70ce5-1eaf-4a06-8c0d-4f53d85e5f9e",
   "metadata": {},
   "outputs": [],
   "source": [
    "flux.array"
   ]
  },
  {
   "cell_type": "markdown",
   "id": "090625ec-7ab1-4f4a-8a36-4865328660d0",
   "metadata": {},
   "source": [
    "and individual axes"
   ]
  },
  {
   "cell_type": "code",
   "execution_count": null,
   "id": "73c1a777-426e-460d-bdeb-31ddf9db68df",
   "metadata": {},
   "outputs": [],
   "source": [
    "flux.energy"
   ]
  },
  {
   "cell_type": "markdown",
   "id": "157275e0-afa0-4f74-95ed-969fcc52138c",
   "metadata": {},
   "source": [
    "### Slicing\n",
    "\n",
    "Flux can be sliced the same way as a usual np.array:"
   ]
  },
  {
   "cell_type": "code",
   "execution_count": null,
   "id": "9c163ad6-ba5f-4ed3-90bf-7df55114659e",
   "metadata": {},
   "outputs": [],
   "source": [
    "#get the flux for specific flavor\n",
    "flux[Flavor.NU_E] "
   ]
  },
  {
   "cell_type": "code",
   "execution_count": null,
   "id": "33d054eb-38af-48f5-8463-095a865a6f3d",
   "metadata": {},
   "outputs": [],
   "source": [
    "#Or a trim the time or energy dimensions, \n",
    "#here we take first 1000 points in time\n",
    "flux[:,:1000,:]"
   ]
  },
  {
   "cell_type": "markdown",
   "id": "cdae9fde-3eda-40d3-a195-db515009dc57",
   "metadata": {},
   "source": [
    "### Summation\n",
    "\n",
    "Container can be summed by any of the axes: `flavor`,`time`,`energy`."
   ]
  },
  {
   "cell_type": "code",
   "execution_count": null,
   "id": "fae0f38e-3918-4744-9c61-22dea8171c26",
   "metadata": {},
   "outputs": [],
   "source": [
    "#Sum over all flavors\n",
    "flux.sum('flavor')"
   ]
  },
  {
   "cell_type": "code",
   "execution_count": null,
   "id": "2f5ebc14-eb05-4c10-ad9e-a69521147804",
   "metadata": {},
   "outputs": [],
   "source": [
    "#trying to summ over time or flavor will raise an exception\n",
    "with raises(ValueError):\n",
    "    flux.sum('time')"
   ]
  },
  {
   "cell_type": "markdown",
   "id": "2505e6d4-3d5b-41d1-af3e-22c55f51f8ef",
   "metadata": {},
   "source": [
    "### Integration\n",
    "Also it can be integrated (using linear interpolation between points)"
   ]
  },
  {
   "cell_type": "code",
   "execution_count": null,
   "id": "a05eecb0-e29f-42c8-9574-41a5803e54d1",
   "metadata": {},
   "outputs": [],
   "source": [
    "#Integrate over the full range, if limits are not provided\n",
    "flux.integrate('energy')"
   ]
  },
  {
   "cell_type": "code",
   "execution_count": null,
   "id": "e7731b3c-7c78-44f6-80c8-a6b28759e4a1",
   "metadata": {},
   "outputs": [],
   "source": [
    "#Integrate over the first second of the flux\n",
    "flux.integrate('time',limits=[0,1]<<u.s)"
   ]
  },
  {
   "cell_type": "code",
   "execution_count": null,
   "id": "4b0f2ff2-9679-4c34-a47a-f14dcfcbfadf",
   "metadata": {},
   "outputs": [],
   "source": [
    "#Integrate over the several time bins\n",
    "flux.integrate('time',limits=[0,1,2,3]<<u.s)"
   ]
  },
  {
   "cell_type": "markdown",
   "id": "d4756744-1f3d-4eeb-9108-4dab83e7b974",
   "metadata": {},
   "source": [
    "After integration, the time dimension of the array here is `len(limits)-1`\n",
    "But the corresponding axis (in this case `time`) keeps all the limits (and here it has 4 points)"
   ]
  },
  {
   "cell_type": "markdown",
   "id": "fec77ea8-92a4-4df4-bdc0-757109045316",
   "metadata": {},
   "source": [
    "### \"Summable\" and \"integrable\" axes"
   ]
  },
  {
   "cell_type": "markdown",
   "id": "cb00b8c4-6af4-47af-b353-fcda7c6d1460",
   "metadata": {},
   "source": [
    "Container will automatically watch which axes can be integrated, and which can only be summed over.\n",
    "\n",
    "For example, the flux, obtained from the `SupernovaModel.get_flux` is differential over time and energy, which means it can be integrated over `energy` and `time`. \n",
    "You can see it from the class name `d2FdEdT` and the unit:"
   ]
  },
  {
   "cell_type": "code",
   "execution_count": null,
   "id": "7efae0e2-973d-4957-a300-2a2ce8e3c81d",
   "metadata": {},
   "outputs": [],
   "source": [
    "flux"
   ]
  },
  {
   "cell_type": "markdown",
   "id": "a1f05316-4182-4bc9-8fdd-539a6f4f491c",
   "metadata": {},
   "source": [
    "Internally the axes which can be summed or integrated are kept in the private properties:"
   ]
  },
  {
   "cell_type": "code",
   "execution_count": null,
   "id": "4c7e58cb-9a2d-43bf-830c-4aca0fce8d53",
   "metadata": {},
   "outputs": [],
   "source": [
    "print(f'Can integrate over {flux._integrable_axes}')\n",
    "print(f'Can sum over {flux._sumable_axes}')"
   ]
  },
  {
   "cell_type": "markdown",
   "id": "2e582855-9510-4173-b985-06bd1c02f32e",
   "metadata": {},
   "source": [
    "After the integration over the axis, it becomes \"summable\":"
   ]
  },
  {
   "cell_type": "code",
   "execution_count": null,
   "id": "557dd45d-5a0a-41d6-bc1b-6ccc99d22672",
   "metadata": {},
   "outputs": [],
   "source": [
    "fI = flux.integrate('time',limits=[0,1,2,3]<<u.s)\n",
    "print(f'Can integrate over {fI._integrable_axes}')\n",
    "print(f'Can sum over {fI._sumable_axes}')"
   ]
  },
  {
   "cell_type": "code",
   "execution_count": null,
   "id": "c5fdfc31-35cd-440e-bb6d-799d2255eca3",
   "metadata": {},
   "outputs": [],
   "source": [
    "#after we integrated over time we can sum over the time bins\n",
    "fI.sum('time')"
   ]
  },
  {
   "cell_type": "code",
   "execution_count": null,
   "id": "e1c7219f-533d-4247-9253-ee25a6ea886a",
   "metadata": {},
   "outputs": [],
   "source": [
    "#but cannot integrate over time again\n",
    "with raises(ValueError):\n",
    "    fI.integrate('time')"
   ]
  },
  {
   "cell_type": "markdown",
   "id": "110ebf3c-8695-4a04-b75f-71bd20d157c3",
   "metadata": {},
   "source": [
    "**Note**: *integration changes the physical unit, summation or slicing do not*"
   ]
  },
  {
   "cell_type": "markdown",
   "id": "be55171e-8e29-4501-92f1-76a102601be7",
   "metadata": {},
   "source": [
    "### Integrate or sum (project?)\n",
    "\n",
    "Sometimes you just want a projection of your flux to a specific axis (say, time).\n",
    "In this case you want to integrate over energy if it's integrable, or just sum over the energy bins, if it is already integral flux:"
   ]
  },
  {
   "cell_type": "code",
   "execution_count": null,
   "id": "0f1c6cf1-7fc1-4068-9318-8a4eaea7fed4",
   "metadata": {},
   "outputs": [],
   "source": [
    "assert fI.integrate_or_sum('energy') == fI.integrate('energy')\n",
    "assert fI.integrate_or_sum('time') == fI.sum('time')"
   ]
  },
  {
   "cell_type": "markdown",
   "id": "4f89102c-f2c9-4507-9fa2-fac0d4a36f51",
   "metadata": {},
   "source": [
    "## 3. Calculate rate"
   ]
  },
  {
   "cell_type": "markdown",
   "id": "792a8624-1236-45d1-9225-84ae22a51e26",
   "metadata": {
    "jp-MarkdownHeadingCollapsed": true
   },
   "source": [
    "I made a `RateCalculator` -  subclass of a `SimpleRate` (temporary solution for cleanness, we might merge them later).\n",
    "\n",
    "The main difference - it uses `RateCalculator.run` function to calculate rates - multiplying flux by the cross-section, target number, smearing matrix and efficiency.\n",
    "\n",
    "**Note** on the rate calculation:\n",
    "In `SimpleRate` we used an input from `generate_fluence`, so the flux was already integrated within the energy bins, and the cross-section was sampled in the centers of energy bins.\n",
    "\n",
    "In the `RateCalculator` we're multiplying the flux by the cross-section, and only after that we integrate over energy bins, so that should be more precise."
   ]
  },
  {
   "cell_type": "code",
   "execution_count": null,
   "id": "27151730-3463-40a2-89ed-1a62d92e3473",
   "metadata": {},
   "outputs": [],
   "source": [
    "from snewpy.rate_calculator import RateCalculator\n",
    "rc = RateCalculator()"
   ]
  },
  {
   "cell_type": "code",
   "execution_count": null,
   "id": "c993b25d-1f03-4946-b277-ea7d2428e9d8",
   "metadata": {},
   "outputs": [],
   "source": [
    "#calculate time differential rate \n",
    "rates = rc.run(flux, 'icecube')\n",
    "rates['ibd']"
   ]
  },
  {
   "cell_type": "markdown",
   "id": "8f4367c3-03c7-4232-926c-834151baf3c0",
   "metadata": {},
   "source": [
    "`RateCalculator.run` outputs a dictionary of Container objects with rates for each channel"
   ]
  },
  {
   "cell_type": "markdown",
   "id": "9b290e09-a866-4c5a-9811-7e4c92c67696",
   "metadata": {},
   "source": [
    "Since rhe rate calculation only operates on energy, the time structure remains the same: if it was flux (`1/(MeV cm2 s)`) the rate will be `1/s`\n",
    "\n",
    "But if we pass a flux integrated over time (fluence), we get just number of events:"
   ]
  },
  {
   "cell_type": "code",
   "execution_count": null,
   "id": "d7b56248-b368-4712-9c50-208cc2f58415",
   "metadata": {},
   "outputs": [],
   "source": [
    "#calculate time integral rate \n",
    "fluence = flux.integrate('time', np.arange(0,2.1,0.1)<<u.s)\n",
    "ratesI = rc.run(fluence, 'icecube')\n",
    "ratesI['ibd']"
   ]
  },
  {
   "cell_type": "markdown",
   "id": "91a8fd49-5feb-422a-8eb3-f297fbc61a6f",
   "metadata": {},
   "source": [
    "### Saving and loading"
   ]
  },
  {
   "cell_type": "code",
   "execution_count": null,
   "id": "32a3957b-9e5c-4f76-9e18-75b7b9cd774c",
   "metadata": {},
   "outputs": [],
   "source": [
    "#Container can be saved to a file \n",
    "fluence.save('fluence.npz')\n",
    "#and loaded using the class method\n",
    "fluence1 = Container.load('fluence.npz')\n",
    "assert fluence1 == fluence\n",
    "\n",
    "fluence1"
   ]
  },
  {
   "cell_type": "markdown",
   "id": "c8612f45-6415-4a3c-93f8-3a320572ef60",
   "metadata": {},
   "source": [
    "## 4. Plotting examples"
   ]
  },
  {
   "cell_type": "markdown",
   "id": "b2277f47-fe03-4047-815c-a8ed22edffa2",
   "metadata": {},
   "source": [
    "### Utility functions"
   ]
  },
  {
   "cell_type": "code",
   "execution_count": null,
   "id": "95972dcf-7a45-4df8-9a36-826d1ec39f26",
   "metadata": {},
   "outputs": [],
   "source": [
    "#Utility function to draw the flux\n",
    "from snewpy.flux import Axes\n",
    "\n",
    "def project(flux, axis, integrate=True):\n",
    "    axis = Axes[axis] #convert to enum\n",
    "    integrate_axis = Axes.time \n",
    "    if axis == integrate_axis:\n",
    "        integrate_axis = Axes.energy \n",
    "    fI = (flux.integrate if integrate else flux.sum)(integrate_axis)\n",
    "    return fI.axes[axis], fI\n",
    "    \n",
    "def plot_projection(flux, axis, step=False, integrate=True):\n",
    "    x,fI = project(flux,axis, integrate)\n",
    "    y = fI.array.squeeze().T\n",
    "    if step:\n",
    "        #we're dealing with bins, not points\n",
    "        l = plt.step(x[:-1], y, where='pre', label=[Flavor(flv).to_tex() for flv in flux.flavor])\n",
    "    else:\n",
    "        l = plt.plot(x, y, label=[Flavor(flv).to_tex() for flv in flux.flavor])\n",
    "    \n",
    "    plt.ylabel(f'{fI.__class__.__name__},  {y.unit}')\n",
    "    plt.xlabel(f'{Axes[axis].name},  {x.unit}')\n",
    "    return l"
   ]
  },
  {
   "cell_type": "code",
   "execution_count": null,
   "id": "57954135-8721-400c-898e-3a36f7b4bf37",
   "metadata": {},
   "outputs": [],
   "source": [
    "#Utility function to draw the \n",
    "def plot_rates(rates):\n",
    "    for ch,r in rates.items():\n",
    "        rT = r.sum('energy')\n",
    "\n",
    "        plt.plot(rT.time, rT.array.squeeze(), label=ch)\n",
    "    #plt.xlim(right=0.5)\n",
    "    plt.ylabel(f'{rT.__class__.__name__},  {r.array.unit}')\n",
    "    plt.xlabel(f'time, {rT.time.unit}')\n",
    "    \n"
   ]
  },
  {
   "cell_type": "markdown",
   "id": "4565d348-c340-4281-a12f-120e99d3314e",
   "metadata": {},
   "source": [
    "### Plot fluxes"
   ]
  },
  {
   "cell_type": "code",
   "execution_count": null,
   "id": "78b18cba-8d8c-44d2-bfd9-1e7a0dd418f3",
   "metadata": {},
   "outputs": [],
   "source": [
    "#plot the neutrino flux \n",
    "fig,ax = plt.subplots(1,2, figsize=(12,6))\n",
    "plt.sca(ax[0])\n",
    "plot_projection(flux, 'energy', integrate=True)\n",
    "plt.legend()\n",
    "\n",
    "plt.sca(ax[1])\n",
    "plot_projection(flux, 'time', integrate=True)\n",
    "plt.legend()\n",
    "plt.xscale('log')\n",
    "plt.show()"
   ]
  },
  {
   "cell_type": "code",
   "execution_count": null,
   "id": "0dab79aa-b9a1-4b73-bf4b-86707ffc253e",
   "metadata": {},
   "outputs": [],
   "source": [
    "for ch, rate in rates.items():\n",
    "    l = plot_projection(rate, 'time', integrate=False)\n",
    "    l[0].set_label(ch)\n",
    "plt.yscale('log')\n",
    "plt.legend(loc='right')\n",
    "plt.ylim(0.1)\n",
    "plt.show()"
   ]
  },
  {
   "cell_type": "code",
   "execution_count": null,
   "id": "c5b932d5-7d31-49eb-a1ab-c44afc50c89f",
   "metadata": {},
   "outputs": [],
   "source": [
    "for ch, rate in ratesI.items():\n",
    "    l = plot_projection(rate, 'time', integrate=False, step=True)\n",
    "    l[0].set_label(ch)\n",
    "plt.yscale('log')\n",
    "plt.legend(loc='right')\n",
    "plt.ylim(0.1)\n",
    "plt.show()"
   ]
  }
 ],
 "metadata": {
  "kernelspec": {
   "display_name": "Python 3 (ipykernel)",
   "language": "python",
   "name": "python3"
  },
  "language_info": {
   "codemirror_mode": {
    "name": "ipython",
    "version": 3
   },
   "file_extension": ".py",
   "mimetype": "text/x-python",
   "name": "python",
   "nbconvert_exporter": "python",
   "pygments_lexer": "ipython3",
   "version": "3.13.5"
  }
 },
 "nbformat": 4,
 "nbformat_minor": 5
}
