{
 "cells": [
  {
   "cell_type": "markdown",
   "id": "0015656d",
   "metadata": {},
   "source": [
    "# Usage of Detector Interface"
   ]
  },
  {
   "cell_type": "code",
   "execution_count": null,
   "id": "0107cb95-e9f6-497f-a99f-6116a86ead8a",
   "metadata": {},
   "outputs": [],
   "source": [
    "import numpy as np\n",
    "import astropy.units as u"
   ]
  },
  {
   "cell_type": "markdown",
   "id": "08c9a2f6-d0d4-4071-817d-71b9d7001d00",
   "metadata": {},
   "source": [
    "## Some plotting functions"
   ]
  },
  {
   "cell_type": "code",
   "execution_count": null,
   "id": "3ee6ab13-fa76-4889-85af-7c07446b7866",
   "metadata": {},
   "outputs": [],
   "source": [
    "import pylab as plt"
   ]
  },
  {
   "cell_type": "code",
   "execution_count": null,
   "id": "11004f41-f61a-4d2c-862f-1f1601647063",
   "metadata": {},
   "outputs": [],
   "source": [
    "from snewpy.rate_calculator import SmearingMatrix, DetectionChannel"
   ]
  },
  {
   "cell_type": "code",
   "execution_count": null,
   "id": "485947db-d7a3-449b-bb7a-5a3acb663124",
   "metadata": {},
   "outputs": [],
   "source": [
    "def plot_matrix(m: SmearingMatrix):\n",
    "    plt.pcolormesh(m.bins_true.value, m.bins_smeared.value, m.matrix.T)\n",
    "    plt.xlabel('$E_{true}$, '+m.bins_true.unit._repr_latex_())\n",
    "    plt.ylabel('$E_{smeared}$, '+m.bins_smeared.unit._repr_latex_())"
   ]
  },
  {
   "cell_type": "code",
   "execution_count": null,
   "id": "c6d0dae4-90b3-42eb-870a-0098f8e48739",
   "metadata": {},
   "outputs": [],
   "source": [
    "def plot_quantity(x:u.Quantity, y:u.Quantity, xlabel=None, ylabel=None, **kwargs):\n",
    "    \"\"\"Plot the X vs Y array, with given axis labels, adding units\"\"\"\n",
    "\n",
    "    #just in case we are passed bare np.arrays iwthout units\n",
    "    x = u.Quantity(x)\n",
    "    y = u.Quantity(y)\n",
    "    \n",
    "    if(len(x)==len(y)):\n",
    "        plt.plot(x.value,y.value,**kwargs)\n",
    "    else:\n",
    "        plt.stairs(edges=x.value,values=y.value,**kwargs)\n",
    "    if xlabel is not None:\n",
    "        if(not x.unit.is_unity()):\n",
    "            xlabel+=', '+x.unit._repr_latex_()\n",
    "        plt.xlabel(xlabel)\n",
    "    if ylabel is not None:\n",
    "        if(not y.unit.is_unity()):\n",
    "            ylabel+=', '+y.unit._repr_latex_()\n",
    "        plt.ylabel(ylabel)"
   ]
  },
  {
   "cell_type": "code",
   "execution_count": null,
   "id": "86744938-3d21-48c6-9f92-78c477eb61b2",
   "metadata": {},
   "outputs": [],
   "source": [
    "def plot_rate(rate, axis:str='time', **kwargs):\n",
    "    if axis=='time':\n",
    "        x = rate.time.to('s')\n",
    "        y = rate.integrate_or_sum('energy').array.squeeze()\n",
    "    elif axis=='energy':\n",
    "        x = rate.energy.to('MeV')\n",
    "        y = rate.integrate_or_sum('time').array.squeeze()\n",
    "    else: \n",
    "        raise ValueError(f'axis=\"{axis}\" should be one of \"time\",\"energy\"')\n",
    "    plot_quantity(x,y,xlabel=axis.capitalize(), ylabel='Event rate', **kwargs)\n"
   ]
  },
  {
   "cell_type": "code",
   "execution_count": null,
   "id": "6ef1506c-fb97-408d-b7d2-8f1df89d2b9d",
   "metadata": {},
   "outputs": [],
   "source": [
    "#a helper function to calculate total rate\n",
    "from snewpy.flux import Container\n",
    "def sum_rates(rates:list):\n",
    "    res = sum([rate.array for rate in rates])\n",
    "    rate = rates[0]#take first as an instance\n",
    "    return Container(res,rate.flavor, rate.time, rate.energy, integrable_axes=rate._integrable_axes)"
   ]
  },
  {
   "cell_type": "markdown",
   "id": "8d149305-a0e6-412c-975d-6607d08a2ed6",
   "metadata": {},
   "source": [
    "## Prepare the neutrino flux"
   ]
  },
  {
   "cell_type": "code",
   "execution_count": null,
   "id": "54dbcde6-4aac-4f96-9dbe-ced31225919a",
   "metadata": {},
   "outputs": [],
   "source": [
    "# prepare the neutrino flux from the model\n",
    "from snewpy.models import ccsn\n",
    "model = ccsn.Bollig_2016(progenitor_mass=27<<u.Msun)\n",
    "times    = np.linspace(0,2,1500)<<u.second;\n",
    "energies = np.linspace(0,50,501)<<u.MeV\n",
    "flux = model.get_flux(t = times, E = energies, distance=10<<u.kpc)"
   ]
  },
  {
   "cell_type": "markdown",
   "id": "abc382c2-f06a-4a52-a829-07947991ec62",
   "metadata": {},
   "source": [
    "## Using a detector config from SNOwGLoBES"
   ]
  },
  {
   "cell_type": "code",
   "execution_count": null,
   "id": "0e7889dd-f442-4841-819b-ce7e31cd9a85",
   "metadata": {},
   "outputs": [],
   "source": [
    "from snewpy.rate_calculator import RateCalculator\n",
    "\n",
    "#load the RateCalculator object\n",
    "rc = RateCalculator()"
   ]
  },
  {
   "cell_type": "markdown",
   "id": "6990252e-ab7f-4f6f-ad80-e86dd3c7794b",
   "metadata": {},
   "source": [
    "### List available detectors"
   ]
  },
  {
   "cell_type": "code",
   "execution_count": null,
   "id": "312c67d9-2556-4932-88b9-20ae7d042405",
   "metadata": {},
   "outputs": [],
   "source": [
    "#list available detectors\n",
    "list(rc.detectors)"
   ]
  },
  {
   "cell_type": "markdown",
   "id": "389865fa-25e9-430a-9736-365a299fc7f9",
   "metadata": {},
   "source": [
    "### Read the detector you need"
   ]
  },
  {
   "cell_type": "code",
   "execution_count": null,
   "id": "c565f89f-e855-47b1-a591-da1561dd0bf5",
   "metadata": {
    "scrolled": true
   },
   "outputs": [],
   "source": [
    "#read the detector\n",
    "det = rc.read_detector('scint20kt')\n",
    "det"
   ]
  },
  {
   "cell_type": "markdown",
   "id": "8bfeb5a5-946b-4155-a72d-4adffdbf9b78",
   "metadata": {},
   "source": [
    "### Inspecting the detector"
   ]
  },
  {
   "cell_type": "code",
   "execution_count": null,
   "id": "a88a95fd-0e24-43e3-8205-41ac030a8632",
   "metadata": {
    "scrolled": true
   },
   "outputs": [],
   "source": [
    "#list all the channels\n",
    "det.channels"
   ]
  },
  {
   "cell_type": "code",
   "execution_count": null,
   "id": "710bb21d-a36c-4291-846c-9a5cc962908c",
   "metadata": {},
   "outputs": [],
   "source": [
    "#plot all the channels cross-sections\n",
    "E = np.linspace(0,50,101)<<u.MeV\n",
    "for name,chan in det.channels.items():\n",
    "    xs = chan.xsec(E)\n",
    "    plot_quantity(E, xs, r'$E_\\nu$', r'Interaction cross-section', label=name)\n",
    "plt.legend(ncols=3)\n",
    "plt.yscale('log')\n",
    "plt.xlim(0)\n",
    "plt.ylim(1e-46, 1e-37)\n",
    "plt.show()"
   ]
  },
  {
   "cell_type": "markdown",
   "id": "11bfb80a-cef7-446f-83b7-eaa97b20c0d6",
   "metadata": {},
   "source": [
    "### Running the rate calculation"
   ]
  },
  {
   "cell_type": "code",
   "execution_count": null,
   "id": "635edf6e",
   "metadata": {},
   "outputs": [],
   "source": [
    "flux"
   ]
  },
  {
   "cell_type": "code",
   "execution_count": null,
   "id": "948ca075-66eb-449b-b310-a9e599d1e2e9",
   "metadata": {},
   "outputs": [],
   "source": [
    "rates = det.run(flux)\n",
    "plot_rate(sum_rates(list(rates.values())), axis='energy', label='Total', lw=2, color='k')\n",
    "for chan,rate in rates.items():\n",
    "    plot_rate(rate, axis='energy', label=chan)\n",
    "#plt.yscale('log')\n",
    "#plt.ylim(1e-2)\n",
    "plt.legend(ncols=3)\n",
    "plt.ylabel(f'Events per {rate.energy.diff()[0]<<u.MeV}')\n",
    "plt.xlim(0,50)\n",
    "plt.show()"
   ]
  },
  {
   "cell_type": "markdown",
   "id": "dafb09b7-5626-475b-9176-49d01b76a830",
   "metadata": {},
   "source": [
    "## Defining a new detector"
   ]
  },
  {
   "cell_type": "code",
   "execution_count": null,
   "id": "af612683-0bc4-4f2e-8262-8b678b82d84e",
   "metadata": {},
   "outputs": [],
   "source": [
    "from snewpy.neutrino import Flavor\n",
    "from snewpy.rate_calculator import Detector, DetectionChannel\n",
    "#we can load cross-section from SNOwGLoBES to reuse\n",
    "xsec_ibd=rc.load_xsec('ibd',Flavor.NU_E_BAR)\n",
    "xsec_nc_c12=rc.load_xsec('nc_nue_C12',Flavor.NU_E)\n",
    "# we can define smearing matrices \n",
    "e_true  = np.arange(0,50,0.1)<<u.MeV\n",
    "e_smear = np.arange(0,50,0.1)<<u.MeV\n",
    "\n",
    "#define the visible energy for IBD as function of \n",
    "def E_vis_ibd(E_nu:u.Quantity):\n",
    "    return E_nu - 784*u.keV\n",
    "\n",
    "#SmearingMatrix.from_Gaussian is a constructor based on a simple Gaussian distribution.\n",
    "\n",
    "#we define matrices with with different resolution\n",
    "m_smear_ibd=SmearingMatrix.from_Gaussian(e_true,e_smear,\n",
    "                                         mean=E_vis_ibd,\n",
    "                                         sigma=lambda e: 0.05*e #5% smearing\n",
    "                                        )\n",
    "m_smear_nc =SmearingMatrix.from_Gaussian(e_true,e_smear,\n",
    "                                         mean=lambda e:15.1*u.MeV,\n",
    "                                         sigma=0.5*u.MeV\n",
    "                                        )\n",
    "#create the detector with the same IBD channels but with three different smearings\n",
    "det = Detector('scint_det', mass=20<<u.kt,\n",
    "               channels={\n",
    "                   'ibd':DetectionChannel(flavor=Flavor.NU_E_BAR,\n",
    "                                          xsec=xsec_ibd, \n",
    "                                          efficiency=1., \n",
    "                                          smearing = m_smear_ibd, \n",
    "                                          weight=0.1429 #mass fraction of free protons in scint\n",
    "                                         ),\n",
    "                   'nc_C12':DetectionChannel(flavor=list(Flavor),#you can provide list of flavors\n",
    "                                                 xsec=xsec_nc_c12, \n",
    "                                                 efficiency=1., \n",
    "                                                 smearing = m_smear_nc,\n",
    "                                                 weight = 0.07 #mass fraction of C12\n",
    "                                                ),\n",
    "               })\n",
    "det"
   ]
  },
  {
   "cell_type": "code",
   "execution_count": null,
   "id": "53304732-d047-44e8-86e4-6a4b82af19d0",
   "metadata": {},
   "outputs": [],
   "source": [
    "det.channels"
   ]
  },
  {
   "cell_type": "code",
   "execution_count": null,
   "id": "499c21ce-d1d7-45ab-8a2b-92f2894e9340",
   "metadata": {},
   "outputs": [],
   "source": [
    "#plot the event rate in the detector\n",
    "rates = det.run(flux)\n",
    "\n",
    "plot_rate(sum_rates(list(rates.values())), axis='energy', label='Total', lw=2, color='k')\n",
    "for chan,rate in rates.items():\n",
    "    #integrate over time\n",
    "    plot_rate(rate, axis='energy', label=chan)\n",
    "#plot the total rate\n",
    "\n",
    "\n",
    "plt.legend()\n",
    "#plt.yscale('log')\n",
    "#plt.ylim(1e-3)\n",
    "plt.ylabel(f'Events per {rate.energy.diff()[0]}')\n",
    "plt.xlim(0,50)\n",
    "plt.show()"
   ]
  },
  {
   "cell_type": "markdown",
   "id": "12469b01-b3a3-4e79-8521-05f7f60e1fa9",
   "metadata": {},
   "source": [
    "### Modifying the detector channels"
   ]
  },
  {
   "cell_type": "code",
   "execution_count": null,
   "id": "c531d8f8-d08f-418b-98d9-2fe260be9bbc",
   "metadata": {},
   "outputs": [],
   "source": [
    "#detector can be modified after creation \n",
    "\n",
    "#let's set the efficiency to the channels. \n",
    "#You can pass any function of energy, in this case we will make thresholds\n",
    "det.channels['ibd'].efficiency = lambda e: 0.8*(e> 5*u.MeV)\n",
    "det.channels['nc_C12'].efficiency = lambda e: 0.9*(e> 15*u.MeV)"
   ]
  },
  {
   "cell_type": "code",
   "execution_count": null,
   "id": "7ae1ce70-4acd-4e48-953e-48c71407080a",
   "metadata": {},
   "outputs": [],
   "source": [
    "#plot the event rate in the detector\n",
    "rates = det.run(flux)\n",
    "plot_rate(sum_rates(list(rates.values())), axis='energy', label='Total', lw=2, color='k')\n",
    "for chan,rate in rates.items():\n",
    "\n",
    "    plot_rate(rate, axis='energy', label=chan)\n",
    "plt.legend()\n",
    "plt.show()"
   ]
  },
  {
   "cell_type": "markdown",
   "id": "93faa6fe-6d33-42cb-9f4d-6956cb381f3a",
   "metadata": {},
   "source": [
    "### Modifying the detector mass"
   ]
  },
  {
   "cell_type": "code",
   "execution_count": null,
   "id": "818f56cc-fc42-4ef2-814e-f6735bb51351",
   "metadata": {},
   "outputs": [],
   "source": [
    "det.mass = 100<<u.kt"
   ]
  },
  {
   "cell_type": "code",
   "execution_count": null,
   "id": "1ec39528-b29a-4e5c-9a19-8bbfd76684ee",
   "metadata": {},
   "outputs": [],
   "source": [
    "#plot the event rate in the detector\n",
    "rates = det.run(flux)\n",
    "for chan,rate in rates.items():\n",
    "    #integrate over time\n",
    "    plot_rate(rate, axis='energy', label=chan)\n",
    "plt.legend()\n",
    "#plt.yscale('log')\n",
    "#plt.ylim(1e-3)\n",
    "plt.show()"
   ]
  }
 ],
 "metadata": {
  "kernelspec": {
   "display_name": "snewpy",
   "language": "python",
   "name": "python3"
  },
  "language_info": {
   "codemirror_mode": {
    "name": "ipython",
    "version": 3
   },
   "file_extension": ".py",
   "mimetype": "text/x-python",
   "name": "python",
   "nbconvert_exporter": "python",
   "pygments_lexer": "ipython3",
   "version": "3.13.1"
  }
 },
 "nbformat": 4,
 "nbformat_minor": 5
}
