{
 "cells": [
  {
   "cell_type": "code",
   "execution_count": 3,
   "metadata": {},
   "outputs": [],
   "source": [
    "from argparse import ArgumentParser\n",
    "# from snewpy import to_snowglobes\n",
    "# from snewpy import run_snowglobes\n",
    "# from snewpy import from_snowglobes\n",
    "from snewpy import snowglobes\n",
    "import tarfile\n",
    "import numpy as np\n",
    "import os\n",
    "from astropy.io import ascii\n",
    "from astropy import units as u\n",
    "import matplotlib.pyplot as plt\n",
    "\n",
    "home_directory = os.getcwd()\n",
    "SNOwGLoBES_path = \"/path/to/snowglobes/\" #where snowglobes is located\n",
    "SNEWPY_models_base = \"/path/to/snewpy/models/\" #where models (aka input for to_snowglobes) is located"
   ]
  },
  {
   "cell_type": "code",
   "execution_count": 10,
   "metadata": {},
   "outputs": [
    {
     "name": "stdout",
     "output_type": "stream",
     "text": [
      "Preparing fluences...\n",
      "Done fluences...\n",
      "Running snowglobes...\n",
      "Calculations are 10.0% completed. ( 6  of  60 )\n",
      "Calculations are 20.0% completed. ( 12  of  60 )\n",
      "Calculations are 30.0% completed. ( 18  of  60 )\n",
      "Calculations are 40.0% completed. ( 24  of  60 )\n",
      "Calculations are 50.0% completed. ( 30  of  60 )\n",
      "Calculations are 60.0% completed. ( 36  of  60 )\n",
      "Calculations are 70.0% completed. ( 42  of  60 )\n",
      "Calculations are 80.0% completed. ( 48  of  60 )\n",
      "Calculations are 90.0% completed. ( 54  of  60 )\n",
      "Calculations are 100.0% completed. ( 60  of  60 )\n",
      "Done snowglobes...\n",
      "Collating...\n"
     ]
    }
   ],
   "source": [
    "#set distance in kpc\n",
    "distance=10\n",
    "\n",
    "#set SNOwGLoBES detector to use\n",
    "detector = \"icecube\"\n",
    "\n",
    "#set SNEWPY model type and filename\n",
    "modeltype = 'Zha_2021'\n",
    "modeldir = SNEWPY_models_base+\"/\"+modeltype+\"/\"\n",
    "model = 's17'\n",
    "filename = model+'.dat'\n",
    "\n",
    "#set desired oscillation prescription\n",
    "transformation = 'AdiabaticMSW_NMO'\n",
    "\n",
    "#to_snowglobes creates a tarred file of snowglobes fluences\n",
    "#this is stored in the model types directory in the snewpy/models\n",
    "#the full path is returned from to_snowglobes\n",
    "outfile = modeltype+\"_\"+model+\"_\"+transformation\n",
    "\n",
    "#to_snowglobes.generate_fluence integrates the model over the\n",
    "#specified time window(s) and generates fluence files for snowglobes\n",
    "\n",
    "#Option 1 - don't specify tstart and tend, then the whole model is integrated\n",
    "#tstart = None\n",
    "#tend = None\n",
    "\n",
    "#Option 2 - specify single tstart and tend, this makes 1 fluence file integrated over the windown\n",
    "#tstart = 0.7 *u.s\n",
    "#tend= 0.8 *u.s\n",
    "\n",
    "#Option 3 = specify sequence of time intervals, one fluence\n",
    "#file is made for each elements with dt=tstart[i]-tend[i]\n",
    "window_tstart = 0.742\n",
    "window_tend = 0.762\n",
    "window_bins = 60\n",
    "tstart = np.linspace(window_tstart,window_tend,window_bins,endpoint=False)*u.s\n",
    "tend = tstart + (window_tend-window_tstart)/window_bins*u.s\n",
    "tmid = (tstart+tend)*0.5\n",
    "\n",
    "#call to_snowglobes\n",
    "#There are two options, here we use generate_fluence\n",
    "print(\"Preparing fluences...\")\n",
    "# tarredfile = to_snowglobes.generate_fluence(modeldir, filename, modeltype, transformation, distance, outfile,tstart,tend)\n",
    "tarredfile = snowglobes.generate_fluence(modeldir, filename, modeltype, transformation, distance, outfile,tstart,tend)\n",
    "print(\"Done fluences...\")\n",
    "\n",
    "print(\"Running snowglobes...\")\n",
    "#now run snowglobes, this will loop over all the fluence files in `tarredfile`\n",
    "# run_snowglobes.go(SNOwGLoBES_path, modeldir, tarredfile, detector_input=detector,verbose=False)\n",
    "snowglobes.go(SNOwGLoBES_path, modeldir, tarredfile, detector_input=detector,verbose=False)\n",
    "print(\"Done snowglobes...\")\n",
    "\n",
    "#now collate results of output of snowglobes\n",
    "print(\"Collating...\")\n",
    "# tables = from_snowglobes.collate(SNOwGLoBES_path, modeldir, tarredfile, detector_input=detector,skip_plots=True,return_tables=True,verbose=False)\n",
    "tables = snowglobes.collate(SNOwGLoBES_path, modeldir, tarredfile, detector_input=detector,skip_plots=True,return_tables=True,verbose=False)"
   ]
  },
  {
   "cell_type": "code",
   "execution_count": 15,
   "metadata": {},
   "outputs": [
    {
     "data": {
      "image/png": "[encoded data removed]",
      "text/plain": [
       "<Figure size 432x288 with 1 Axes>"
      ]
     },
     "metadata": {
      "needs_background": "light"
     },
     "output_type": "display_data"
    },
    {
     "name": "stdout",
     "output_type": "stream",
     "text": [
      "Total Events: 17459.043127709498\n"
     ]
    }
   ],
   "source": [
    "nevents = np.zeros(len(tmid))\n",
    "for i in range(len(tmid)):\n",
    "    key = \"Collated_\"+outfile+\"_\"+str(i)+\"_\"+detector+\"_events_smeared_weighted.dat\"\n",
    "    for j in range(1,len(tables[key]['header'].split())):\n",
    "        nevents[i] += sum(tables[key]['data'][j])\n",
    "\n",
    "#nevents is per bin, convert to per ms\n",
    "factor = window_bins/(window_tend-window_tstart)/1000.\n",
    "\n",
    "plt.plot(tmid-0.742*u.s,nevents*factor)\n",
    "plt.xlabel(\"$t-t_{2c}$ [s]\")\n",
    "plt.ylabel(\"Counts [ms$^{-1}$]\")\n",
    "plt.show()\n",
    "#compare to Figure 5 of Zha et al. (2021)\n",
    "print(\"Total Events:\",sum(nevents))"
   ]
  },
  {
   "cell_type": "code",
   "execution_count": null,
   "metadata": {},
   "outputs": [],
   "source": []
  }
 ],
 "metadata": {
  "kernelspec": {
   "display_name": "Python 3",
   "language": "python",
   "name": "python3"
  },
  "language_info": {
   "codemirror_mode": {
    "name": "ipython",
    "version": 3
   },
   "file_extension": ".py",
   "mimetype": "text/x-python",
   "name": "python",
   "nbconvert_exporter": "python",
   "pygments_lexer": "ipython3",
   "version": "3.8.5"
  }
 },
 "nbformat": 4,
 "nbformat_minor": 4
}
