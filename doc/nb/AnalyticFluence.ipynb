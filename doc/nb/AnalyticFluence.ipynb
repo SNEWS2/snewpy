{
 "cells": [
  {
   "cell_type": "code",
   "execution_count": 29,
   "metadata": {},
   "outputs": [
    {
     "name": "stdout",
     "output_type": "stream",
     "text": [
      "Analytic folder already exists\n"
     ]
    }
   ],
   "source": [
    "from argparse import ArgumentParser\n",
    "from snewpy import to_snowglobes\n",
    "from snewpy import run_snowglobes\n",
    "from snewpy import from_snowglobes\n",
    "import tarfile\n",
    "import numpy as np\n",
    "import os\n",
    "from astropy.io import ascii\n",
    "from astropy import units as u\n",
    "from astropy.table import Table\n",
    "import matplotlib.pyplot as plt\n",
    "import matplotlib as mpl\n",
    "\n",
    "from snewpy.neutrino import Flavor, MassHierarchy\n",
    "from snewpy.models import Analytic3Species\n",
    "from snewpy.flavor_transformation import NoTransformation, AdiabaticMSW, ThreeFlavorDecoherence\n",
    "\n",
    "mpl.rc('font', size=14)\n",
    "\n",
    "home_directory = os.getcwd()\n",
    "SNOwGLoBES_path = \"/Users/evanoc/Documents/GitHub/snowglobes/\" #where snowglobes is located\n",
    "SNEWPY_models_base = \"/Users/evanoc/Documents/GitHub/supernova_models/models/\" #where models (aka input for to_snowglobes) is located\n",
    "\n",
    "\n",
    "model_folder = \"{0}/AnalyticFluence/\".format(SNEWPY_models_base)     \n",
    "try:\n",
    "    os.mkdir(model_folder)\n",
    "except OSError as e:\n",
    "    print(\"Analytic folder already exists\")\n",
    "else:\n",
    "    print(\"Analytic folder made\")"
   ]
  },
  {
   "cell_type": "markdown",
   "metadata": {},
   "source": [
    "Example of creating a SN model file for a 1-zone analytic fluence\n",
    "======"
   ]
  },
  {
   "cell_type": "code",
   "execution_count": 37,
   "metadata": {},
   "outputs": [],
   "source": [
    "#set total energy in each species (erg/s)\n",
    "total_energy = (5.2e52,5e52,1.5e53) \n",
    "\n",
    "#set mean energy of neutrinos (MeV)\n",
    "mean_energy = (14., 15., 17.)\n",
    "\n",
    "#can chose to set either the \"rms\" energy or the \"pinch\" parameter\n",
    "rms_or_pinch = \"pinch\"\n",
    "pinch_values = (2.3, 2.3, 2.3)\n",
    "\n",
    "#rms_or_pinch = \"rms\"\n",
    "#rms_energies = (17., 17., 17.)\n",
    "\n",
    "#make an astropy table with two times, 0s and 1s, with constant neutrino properties\n",
    "table = Table()\n",
    "table['TIME'] = np.linspace(0,1,2)\n",
    "table['L_NU_E'] =  np.linspace(1,1,2)*total_energy[0]\n",
    "table['L_NU_E_BAR'] = np.linspace(1,1,2)*total_energy[1]\n",
    "table['L_NU_X'] = np.linspace(1,1,2)*total_energy[2]/4. #Note, L_NU_X is set to 1/4 of the total NU_X energy\n",
    "        \n",
    "table['E_NU_E'] = np.linspace(1,1,2)*mean_energy[0]\n",
    "table['E_NU_E_BAR'] = np.linspace(1,1,2)*mean_energy[1]\n",
    "table['E_NU_X'] = np.linspace(1,1,2)*mean_energy[2]\n",
    "\n",
    "if rms_or_pinch == \"rms\":\n",
    "    table['RMS_NU_E'] = np.linspace(1,1,2)*rms_energy[0]\n",
    "    table['RMS_NU_E_BAR'] = np.linspace(1,1,2)*rms_energy[1]\n",
    "    table['RMS_NU_X'] = np.linspace(1,1,2)*rms_energy[2]\n",
    "    table['ALPHA_NU_E'] = (2.0 * table['E_NU_E'] ** 2 - table['RMS_NU_E'] ** 2) / (\n",
    "        table['RMS_NU_E'] ** 2 - table['E_NU_E'] ** 2)\n",
    "    table['ALPHA_NU_E_BAR'] = (2.0 * table['E_NU_E_BAR'] ** 2 - table['RMS_NU_E_BAR'] ** 2) / (\n",
    "        table['RMS_NU_E_BAR'] ** 2 - table['E_NU_E_BAR'] ** 2)\n",
    "    table['ALPHA_NU_X'] = (2.0 * table['E_NU_X'] ** 2 - table['RMS_NU_X'] ** 2) / (\n",
    "        table['RMS_NU_X'] ** 2 - table['E_NU_X'] ** 2)\n",
    "elif rms_or_pinch == \"pinch\":\n",
    "    table['ALPHA_NU_E'] = np.linspace(1,1,2)*pinch_values[0]\n",
    "    table['ALPHA_NU_E_BAR'] = np.linspace(1,1,2)*pinch_values[1]\n",
    "    table['ALPHA_NU_X'] = np.linspace(1,1,2)*pinch_values[2]\n",
    "    table['RMS_NU_E'] = np.sqrt((2.0 + table['ALPHA_NU_E'])/(1.0 + table['ALPHA_NU_E'])*table['E_NU_E']**2)\n",
    "    table['RMS_NU_E_BAR'] =  np.sqrt((2.0 + table['ALPHA_NU_E_BAR'])/(1.0 + table['ALPHA_NU_E_BAR'])*table['E_NU_E_BAR']**2)\n",
    "    table['RMS_NU_X'] = np.sqrt((2.0 + table['ALPHA_NU_X'])/(1.0 + table['ALPHA_NU_X'])*table['E_NU_X']**2 )\n",
    "else:\n",
    "    print(\"incorrect second moment method: rms or pinch\")\n",
    "\n",
    "filename = \"AnalyticFluence_demo.dat\"\n",
    "table.write(model_folder+\"/\"+filename,format='ascii',overwrite=True)"
   ]
  },
  {
   "cell_type": "markdown",
   "metadata": {},
   "source": [
    "Visualize Analytic Model\n",
    "=="
   ]
  },
  {
   "cell_type": "code",
   "execution_count": 38,
   "metadata": {},
   "outputs": [
    {
     "data": {
      "text/plain": [
       "<matplotlib.legend.Legend at 0x122a60350>"
      ]
     },
     "execution_count": 38,
     "metadata": {},
     "output_type": "execute_result"
    },
    {
     "data": {
      "image/png": "[encoded data removed]",
      "text/plain": [
       "<Figure size 1152x216 with 3 Axes>"
      ]
     },
     "metadata": {
      "needs_background": "light"
     },
     "output_type": "display_data"
    }
   ],
   "source": [
    "filename = \"AnalyticFluence_demo.dat\"\n",
    "model = Analytic3Species(model_folder+\"/\"+filename)\n",
    "flavors = [Flavor.NU_E,Flavor.NU_E_BAR,Flavor.NU_X]\n",
    "\n",
    "fig,axes = plt.subplots(1,3,figsize=(16,3))\n",
    "plt.subplots_adjust(wspace=0.3)\n",
    "for flavor in flavors:\n",
    "    axes[0].plot(model.time,model.luminosity[flavor],label=flavor.to_tex())\n",
    "axes[0].set_ylabel(\"Luminosity [erg/s]\")\n",
    "axes[0].set_xlabel(\"time [s]\")\n",
    "axes[0].legend(frameon=False)\n",
    "\n",
    "for flavor in flavors:\n",
    "    axes[1].plot(model.time,model.meanE[flavor],label=flavor.to_tex())\n",
    "axes[1].set_ylabel(\"Mean Energy [MeV]\")\n",
    "axes[1].set_xlabel(\"time [s]\")\n",
    "axes[1].legend(frameon=False)\n",
    "\n",
    "for flavor in flavors:\n",
    "    axes[2].plot(model.time,model.pinch[flavor],label=flavor.to_tex())\n",
    "axes[2].set_ylabel(\"pinch parameter\")\n",
    "axes[2].set_xlabel(\"time [s]\")\n",
    "axes[2].legend(frameon=False)"
   ]
  },
  {
   "cell_type": "code",
   "execution_count": 39,
   "metadata": {},
   "outputs": [
    {
     "name": "stdout",
     "output_type": "stream",
     "text": [
      "Preparing fluences...\n",
      "Done fluences...\n",
      "Running snowglobes...\n",
      "Calculations are 100.0% completed. ( 1  of  1 )\n",
      "Done snowglobes...\n",
      "Collating...\n",
      "22018.95836299999\n"
     ]
    }
   ],
   "source": [
    "#set model type as \n",
    "modeltype = 'Analytic3Species'\n",
    "#set model file we just created above\n",
    "filename = \"AnalyticFluence_demo.dat\"\n",
    "\n",
    "#set desired Oscillation scenario\n",
    "transformation = 'AdiabaticMSW_NMO'\n",
    "\n",
    "#set distance in kpc\n",
    "distance=10\n",
    "\n",
    "#set desired detector\n",
    "detector='wc100kt30prct'\n",
    "\n",
    "#Running the SNEWPY/SNOwGLoBES modules\n",
    "outfile = \"Analytic3Species_demo\"\n",
    "\n",
    "#first generated integrated fluence files for SNOwGLoBES\n",
    "print(\"Preparing fluences...\")\n",
    "tarredoutfile = to_snowglobes.generate_fluence(model_folder, filename, modeltype, transformation, distance, outfile) #runs to_snowglobes\n",
    "print(\"Done fluences...\")\n",
    "\n",
    "#run the fluence file through snowglobes \n",
    "print(\"Running snowglobes...\")\n",
    "run_snowglobes.go(SNOwGLoBES_path, model_folder, tarredoutfile,detector_input=detector)\n",
    "print(\"Done snowglobes...\")\n",
    "\n",
    "print(\"Collating...\")\n",
    "tables = from_snowglobes.collate(SNOwGLoBES_path, model_folder, tarredoutfile, detector_input=detector, skip_plots=True,return_tables=True)\n",
    "\n",
    "print(sum(tables['Collated_'+outfile+'_'+detector+'_events_smeared_weighted.dat']['data'][3]))"
   ]
  },
  {
   "cell_type": "code",
   "execution_count": null,
   "metadata": {},
   "outputs": [],
   "source": []
  }
 ],
 "metadata": {
  "kernelspec": {
   "display_name": "Python 3",
   "language": "python",
   "name": "python3"
  },
  "language_info": {
   "codemirror_mode": {
    "name": "ipython",
    "version": 3
   },
   "file_extension": ".py",
   "mimetype": "text/x-python",
   "name": "python",
   "nbconvert_exporter": "python",
   "pygments_lexer": "ipython3",
   "version": "3.7.4"
  }
 },
 "nbformat": 4,
 "nbformat_minor": 2
}
