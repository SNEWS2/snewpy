{
 "cells": [
  {
   "cell_type": "markdown",
   "id": "cfdb428a",
   "metadata": {},
   "source": [
    "Example notebook on extending functionality or modifying SNEWPY models"
   ]
  },
  {
   "cell_type": "code",
   "execution_count": 1,
   "id": "2e8b714a",
   "metadata": {},
   "outputs": [],
   "source": [
    "from snewpy.models.ccsn import Sukhbold_2015\n",
    "from snewpy.neutrino import Flavor\n",
    "\n",
    "import numpy as np\n",
    "import astropy.units as u"
   ]
  },
  {
   "cell_type": "code",
   "execution_count": 2,
   "id": "b9204658",
   "metadata": {},
   "outputs": [],
   "source": [
    "def double_luminosity(lum):\n",
    "    \"\"\"Example of modifications applied to a member of Sukhbold_2015\n",
    "    \n",
    "    Parameters\n",
    "    ----------\n",
    "    lum : dict\n",
    "        snewpy.neutrino.Flavor-keyed dictionary containing model luminosity\n",
    "        \n",
    "    Returns\n",
    "    -------\n",
    "    new_lum : dict\n",
    "        snewpy.neutrino.Flavor-keyed dictionary containing modified model luminosity\n",
    "    \"\"\"\n",
    "    new_lum = {}\n",
    "    for key, val in lum.items():\n",
    "        new_lum.update({key: val*2})\n",
    "    return new_lum\n",
    "\n",
    "\n",
    "def halve_pdf(func):\n",
    "    \"\"\"Example of modification applied to a member function of Sukhbold_2015\n",
    "    \n",
    "    Parameters\n",
    "    ----------\n",
    "    func : Object\n",
    "        Member function of SNEWS model to report mean energy\n",
    "        \n",
    "    Return\n",
    "    ------\n",
    "    new_func : Object\n",
    "        function with modified behavior\n",
    "    \"\"\"\n",
    "    def new_func(*args, **kwargs):\n",
    "        result = func(*args, **kwargs)\n",
    "        \n",
    "        # Add modified behavior here, some care may be needed based on expected input\n",
    "        # In this case, the target is get_initial_spectrum, which returns a dictionary \n",
    "        #     and the modification is to reduce the PDF by a factor of 2.\n",
    "        for key, val in result.items():\n",
    "            result[key] = val / 2\n",
    "        return result\n",
    "    \n",
    "    return new_func\n",
    "\n",
    "\n",
    "def ModelOscExtension(model):\n",
    "    \"\"\"Provide an extended SNEWPY Model class\n",
    "    \n",
    "    Parameters\n",
    "    ----------\n",
    "    model : snewpy.models.SupernovaModel\n",
    "        SNEWPY Model to which the extension is applied\n",
    "    \"\"\"\n",
    "    class ExtendedModel(model):            \n",
    "            \n",
    "        def __new__(cls, *args, **kwargs):\n",
    "            instance = model.__new__(cls, *args, **kwargs)\n",
    "            \n",
    "            # Add your modifications to members or member functions here\n",
    "            \n",
    "            # Example: Double the luminosity of this model\n",
    "            instance.luminosity = double_luminosity(instance.luminosity)\n",
    "            # Example: Halve the PDF of this model\n",
    "            instance.get_initial_spectrum = halve_pdf(instance.get_initial_spectra)\n",
    "            return instance\n",
    "            \n",
    "    return ExtendedModel"
   ]
  },
  {
   "cell_type": "code",
   "execution_count": 3,
   "id": "c3f30d49",
   "metadata": {},
   "outputs": [],
   "source": [
    "# Initialize\n",
    "param = Sukhbold_2015.get_param_combinations()[0]\n",
    "Ext_Sukhbold_2015 = ModelOscExtension(Sukhbold_2015)\n",
    "\n",
    "ext_model = Ext_Sukhbold_2015(**param)\n",
    "normal_model = Sukhbold_2015(**param)"
   ]
  },
  {
   "cell_type": "code",
   "execution_count": 4,
   "id": "1c5c4f88",
   "metadata": {},
   "outputs": [
    {
     "data": {
      "text/plain": [
       "True"
      ]
     },
     "execution_count": 4,
     "metadata": {},
     "output_type": "execute_result"
    }
   ],
   "source": [
    "# Simple Unit Test for member modification\n",
    "\n",
    "ext_lum = ext_model.luminosity[Flavor.NU_E_BAR]\n",
    "normal_lum = normal_model.luminosity[Flavor.NU_E_BAR]\n",
    "\n",
    "ratio = np.divide(ext_lum, normal_lum, where = np.abs(normal_lum.value) > 1e-10, out=np.zeros_like(ext_lum))\n",
    "# AstroPy Quantities are prone to floating point errors, \n",
    "#    so I am using a tolerance of 1e-10 here\n",
    "np.all(ratio[ratio!=0] == 2)"
   ]
  },
  {
   "cell_type": "code",
   "execution_count": 5,
   "id": "683e3508",
   "metadata": {},
   "outputs": [
    {
     "data": {
      "text/plain": [
       "True"
      ]
     },
     "execution_count": 5,
     "metadata": {},
     "output_type": "execute_result"
    }
   ],
   "source": [
    "# Simple Unit Test for member function modification\n",
    "\n",
    "t = 0.5 * u.s\n",
    "E = np.arange(10) * u.MeV\n",
    "\n",
    "ext_pdf = ext_model.get_initial_spectra(t, E)[Flavor.NU_E_BAR].value\n",
    "normal_pdf = normal_model.get_initial_spectra(t, E)[Flavor.NU_E_BAR].value\n",
    "\n",
    "ratio = np.divide(ext_pdf, normal_pdf, where = np.abs(normal_pdf) > 1e-10, out=np.zeros_like(ext_pdf))\n",
    "# AstroPy Quantities are prone to floating point errors, \n",
    "#    so I am using a tolerance of 1e-10 here\n",
    "np.all((ratio - 2) < 1e-10)"
   ]
  },
  {
   "cell_type": "code",
   "execution_count": null,
   "id": "d7161311",
   "metadata": {},
   "outputs": [],
   "source": []
  }
 ],
 "metadata": {
  "kernelspec": {
   "display_name": "Python 3 (ipykernel)",
   "language": "python",
   "name": "python3"
  },
  "language_info": {
   "codemirror_mode": {
    "name": "ipython",
    "version": 3
   },
   "file_extension": ".py",
   "mimetype": "text/x-python",
   "name": "python",
   "nbconvert_exporter": "python",
   "pygments_lexer": "ipython3",
   "version": "3.10.3"
  }
 },
 "nbformat": 4,
 "nbformat_minor": 5
}
