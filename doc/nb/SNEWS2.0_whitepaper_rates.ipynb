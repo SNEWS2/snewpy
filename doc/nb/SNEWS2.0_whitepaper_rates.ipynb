{
 "cells": [
  {
   "cell_type": "markdown",
   "metadata": {},
   "source": [
    "SNEWS2.0 White Paper Event Totals Table\n",
    "=================================\n",
    "\n",
    "This notebook takes a model from the SNEWPY library and generates a time-independent snowglobes fluence file from the data. It then runs it through snowglobes (must be installed) and returns the summative counts, a routine to distill output to total counts is also included."
   ]
  },
  {
   "cell_type": "code",
   "execution_count": 82,
   "metadata": {},
   "outputs": [],
   "source": [
    "import numpy as np\n",
    "import matplotlib as mpl\n",
    "import matplotlib.pyplot as plt\n",
    "from snewpy.models import *\n",
    "import os\n",
    "from shutil import copyfile\n",
    "from astropy.io import ascii"
   ]
  },
  {
   "cell_type": "code",
   "execution_count": 17,
   "metadata": {},
   "outputs": [],
   "source": [
    "def OutputInSnowGlobesFormat(SN,savefile=\"SNOformat.dat\",d=10.):\n",
    "    '''\n",
    "    Write to disk a SnowGlobes fluence file summed over the entire SNEWPY model \\\n",
    "    Parameters\n",
    "    ----------\n",
    "    SN : SupernovaModel\n",
    "        Supernova model from the SNEWPY library.  \n",
    "    savefile : string\n",
    "        path to file for the snowglobes fluence file\n",
    "    d : float\n",
    "        distance (in kpc) to place the model for the fluence calculation\n",
    "    '''\n",
    "    d *= 1000.*3.086e+18 #convert from kpc to cm\n",
    "    keV=1e3\n",
    "    MeV=1e6\n",
    "    GeV=1e9\n",
    "    \n",
    "    times=SN.get_time()\n",
    "    dt = np.zeros(len(times))\n",
    "    for i in range(len(times)-1):\n",
    "        dt[i] = times[i+1]-times[i]\n",
    "    dt[len(times)-1] = times[-1]-times[-2]\n",
    "    \n",
    "    nenergybins = 501\n",
    "    E=np.linspace(0,100,nenergybins)*MeV\n",
    "    \n",
    "    finalOF=np.zeros(len(Flavor)*len(E)).reshape(len(Flavor),len(E))\n",
    "    OscillatedFluence = {}\n",
    "    OscillatedSpectra = SN.get_oscillatedspectra(times[0],E)\n",
    "    for flavor in range(len(Flavor)):\n",
    "        OscillatedFluence[flavor] = OscillatedSpectra[flavor]*dt[0]* 200.*keV  / (4.*np.pi*d**2)\n",
    "    for i in range(1,len(times)):\n",
    "        OscillatedSpectra = SN.get_oscillatedspectra(times[i],E)\n",
    "        for flavor in range(len(Flavor)):\n",
    "            OscillatedFluence[flavor] += OscillatedSpectra[flavor]*dt[i]* 200.*keV  / (4.*np.pi*d**2)\n",
    "            \n",
    "    file = open(savefile,\"w\")\n",
    "    \n",
    "    for i in range(0,nenergybins):\n",
    "        file.write(\"{0:.4f}\".format(E[i]/GeV))\n",
    "        file.write(\"\\t\"+str(OscillatedFluence[Flavor.nu_e][i]))\n",
    "        file.write(\"\\t\"+str(OscillatedFluence[Flavor.nu_x][i]/2.))\n",
    "        file.write(\"\\t\"+str(OscillatedFluence[Flavor.nu_x][i]/2.))\n",
    "        file.write(\"\\t\"+str(OscillatedFluence[Flavor.nu_e_bar][i]))\n",
    "        file.write(\"\\t\"+str(OscillatedFluence[Flavor.nu_x_bar][i]/2.))\n",
    "        file.write(\"\\t\"+str(OscillatedFluence[Flavor.nu_x_bar][i]/2.)+\"\\n\")\n",
    "\n",
    "    file.close()"
   ]
  },
  {
   "cell_type": "code",
   "execution_count": 3,
   "metadata": {},
   "outputs": [],
   "source": [
    "def get_SGresults(SGdata,SG_settings,targettype,mass,eventtype=\"total\"):\n",
    "    '''\n",
    "    small parser for the output from the snowglobes routine: make_event_table.pl\n",
    "    \n",
    "    Parameters\n",
    "    ==========\n",
    "    SGdata : dict\n",
    "        dictionary of output (after splitlines) from the make_event_table.pl routine from snowglobes\n",
    "    SG_settings : dict\n",
    "        dictionary of settings describing the SGdata\n",
    "    targettype : string\n",
    "        dictionary identifier of the results wanted\n",
    "    mass : float\n",
    "        mass to scale snowglobes output to for the results wanted\n",
    "    eventtype : string\n",
    "        discriminates between total events, elastic scattering events or neutral current events,\n",
    "        there is currently no individual channel parsing, although this data is in SGdata\n",
    "    '''\n",
    "    if eventtype == 'es': \n",
    "        line = -3\n",
    "    elif eventtype == 'nc': \n",
    "        line = -2\n",
    "    elif eventtype == 'total': \n",
    "        line = -1\n",
    "    else:\n",
    "        print(\"Warning, eventtype unknown, returning total\")\n",
    "        line = -1\n",
    "    return float(SGdata[targettype][line].split(\":\")[-1])*mass/SG_settings[targettype][2]\n",
    "        "
   ]
  },
  {
   "cell_type": "markdown",
   "metadata": {},
   "source": [
    "Generate Fluence Files\n",
    "==================\n",
    "\n",
    "Here we generate snowglobes fluence files for three models and under three oscillation scenarios\n"
   ]
  },
  {
   "cell_type": "code",
   "execution_count": 14,
   "metadata": {},
   "outputs": [],
   "source": [
    "snmodel = Bollig2016(\"../../models/Bollig_2016/s11.2c\", NoTransformation(),eos=\"LS220\")\n",
    "OutputInSnowGlobesFormat(snmodel,savefile=\"Bollig2016_s11.2c_LS220_summed_NoOsc_SNOformat.dat\",d=10.)\n",
    "snmodel = Bollig2016(\"../../models/Bollig_2016/s11.2c\", AdiabaticMSW_IMO(),eos=\"LS220\")\n",
    "OutputInSnowGlobesFormat(snmodel,savefile=\"Bollig2016_s11.2c_LS220_summed_AIMO_SNOformat.dat\",d=10.)\n",
    "snmodel = Bollig2016(\"../../models/Bollig_2016/s11.2c\", AdiabaticMSW_NMO(),eos=\"LS220\")\n",
    "OutputInSnowGlobesFormat(snmodel,savefile=\"Bollig2016_s11.2c_LS220_summed_ANMO_SNOformat.dat\",d=10.)\n",
    "\n",
    "snmodel = Bollig2016(\"../../models/Bollig_2016/s27.0c\", NoTransformation(),eos=\"LS220\")\n",
    "OutputInSnowGlobesFormat(snmodel,savefile=\"Bollig2016_s27.0c_LS220_summed_NoOsc_SNOformat.dat\",d=10.)\n",
    "snmodel = Bollig2016(\"../../models/Bollig_2016/s27.0c\", AdiabaticMSW_IMO(),eos=\"LS220\")\n",
    "OutputInSnowGlobesFormat(snmodel,savefile=\"Bollig2016_s27.0c_LS220_summed_AIMO_SNOformat.dat\",d=10.)\n",
    "snmodel = Bollig2016(\"../../models/Bollig_2016/s27.0c\", AdiabaticMSW_NMO(),eos=\"LS220\")\n",
    "OutputInSnowGlobesFormat(snmodel,savefile=\"Bollig2016_s27.0c_LS220_summed_ANMO_SNOformat.dat\",d=10.)\n",
    "\n",
    "snmodel = OConnor2015(\"../../models/OConnor_2015/M1_neutrinos.dat\", NoTransformation(),eos=\"LS220\")\n",
    "OutputInSnowGlobesFormat(snmodel,savefile=\"OConnor2015_s40WH07_LS220_summed_NoOsc_SNOformat.dat\",d=10.)\n",
    "snmodel = OConnor2015(\"../../models/OConnor_2015/M1_neutrinos.dat\", AdiabaticMSW_IMO(),eos=\"LS220\")\n",
    "OutputInSnowGlobesFormat(snmodel,savefile=\"OConnor2015_s40WH07_LS220_summed_AIMO_SNOformat.dat\",d=10.)\n",
    "snmodel = OConnor2015(\"../../models/OConnor_2015/M1_neutrinos.dat\", AdiabaticMSW_NMO(),eos=\"LS220\")\n",
    "OutputInSnowGlobesFormat(snmodel,savefile=\"OConnor2015_s40WH07_LS220_summed_ANMO_SNOformat.dat\",d=10.)"
   ]
  },
  {
   "cell_type": "markdown",
   "metadata": {},
   "source": [
    "Execute SNOwGLoBES\n",
    "==================\n",
    "Here we run SNOwGLoBES to determine total event rates in default detectors.  We store the summed data in order to use it for arbitrary detectors in the following"
   ]
  },
  {
   "cell_type": "code",
   "execution_count": 42,
   "metadata": {},
   "outputs": [
    {
     "name": "stdout",
     "output_type": "stream",
     "text": [
      "Working on OConnor2015_s40WH07_LS220_summed_ANMO_SNOformat\n",
      "Working on Bollig2016_s11.2c_LS220_summed_ANMO_SNOformat\n",
      "Working on OConnor2015_s40WH07_LS220_summed_AIMO_SNOformat\n",
      "Working on Bollig2016_s11.2c_LS220_summed_NoOsc_SNOformat\n",
      "Working on Bollig2016_s11.2c_LS220_summed_AIMO_SNOformat\n",
      "Working on Bollig2016_s27.0c_LS220_summed_ANMO_SNOformat\n",
      "Working on OConnor2015_s40WH07_LS220_summed_NoOsc_SNOformat\n",
      "Working on Bollig2016_s27.0c_LS220_summed_AIMO_SNOformat\n",
      "Working on Bollig2016_s27.0c_LS220_summed_NoOsc_SNOformat\n"
     ]
    }
   ],
   "source": [
    "SG_DIR=\"/Users/evanoc/research/snowglobes/\"\n",
    "SNEWPY_DIR=\"/Users/evanoc/research/supernova_models/\"\n",
    "filebase = {\"OConnor2015_s40WH07_LS220_summed_NoOsc_SNOformat\",\n",
    "            \"OConnor2015_s40WH07_LS220_summed_ANMO_SNOformat\",\n",
    "            \"OConnor2015_s40WH07_LS220_summed_AIMO_SNOformat\",\n",
    "            \"Bollig2016_s11.2c_LS220_summed_NoOsc_SNOformat\",\n",
    "            \"Bollig2016_s11.2c_LS220_summed_ANMO_SNOformat\",\n",
    "            \"Bollig2016_s11.2c_LS220_summed_AIMO_SNOformat\",\n",
    "            \"Bollig2016_s27.0c_LS220_summed_NoOsc_SNOformat\",\n",
    "            \"Bollig2016_s27.0c_LS220_summed_ANMO_SNOformat\",\n",
    "            \"Bollig2016_s27.0c_LS220_summed_AIMO_SNOformat\"}\n",
    "\n",
    "SG_settings={}\n",
    "SG_settings[\"WC\"]        = [\"water\", \"wc100kt30prct\",100]\n",
    "SG_settings[\"argon\"]     = [\"argon\", \"ar40kt\",40]\n",
    "SG_settings[\"lead\"]      = [\"lead\", \"halo2\",1]\n",
    "SG_settings[\"scint\"]     = [\"scint\", \"scint20kt\",20]\n",
    "SG_settings[\"nova_soup\"] = [\"nova_soup\", \"novaFD\",14]\n",
    "SG_settings['icecube']   = [\"water\", \"icecube\", 51600]\n",
    "\n",
    "allSGdata = {}\n",
    "for SGfile in filebase:\n",
    "    print(\"Working on\",SGfile,\"...\")\n",
    "    SGdata = {}\n",
    "    for type in SG_settings:\n",
    "        material = SG_settings[type][0]\n",
    "        detector = SG_settings[type][1]\n",
    "        os.chdir(SNEWPY_DIR+\"doc/nb\")\n",
    "        copyfile(SGfile+'.dat', SG_DIR+\"fluxes/\"+SGfile+'.dat')\n",
    "        os.chdir(SG_DIR)\n",
    "        command = \"./supernova.pl \"+SGfile+\" \"+material+\" \"+detector\n",
    "        os.system(command)\n",
    "        command = \"./make_event_table.pl  \"+SGfile+\" \"+material+\" \"+detector\n",
    "        SGdata[type] = os.popen(command).read().splitlines()\n",
    "        os.chdir(SNEWPY_DIR+\"doc/nb\")\n",
    "        #print(SG_settings[type][2],\"kt of \",type,\":\", SGdata[type][-1])\n",
    "    allSGdata[SGfile] = SGdata\n",
    "    #print(\"\\n\")"
   ]
  },
  {
   "cell_type": "markdown",
   "metadata": {},
   "source": [
    "Generate table for SNEWS2.0 white paper\n",
    "=================================\n",
    "\n",
    "This will need style changes, but allows for easy recomputing if models change"
   ]
  },
  {
   "cell_type": "code",
   "execution_count": 94,
   "metadata": {},
   "outputs": [
    {
     "name": "stdout",
     "output_type": "stream",
     "text": [
      "\\begin{table}\n",
      "\\begin{tabular}{ccccccc}\n",
      "Experiments & Type & Mass & Location & $11.2 M_\\odot$ & $27.0 M_\\odot$ & $40.0 M_\\odot$ \\\\\n",
      "Super-Kamiokande & H$_2$O/$\\bar{\\nu}_e$ & 32.0 & Japan & 4053/4068 & 7771/7544 & 7597/4904 \\\\\n",
      "Hyper-Kamiokande & H$_2$O/$\\bar{\\nu}_e$ & 220.0 & Japan & 27867/27968 & 53432/51866 & 52232/33720 \\\\\n",
      "IceCube & Long String/$\\bar{\\nu}_e$ & 51600.0 & South Pole & 321043/332369 & 662149/659029 & 818230/625678 \\\\\n",
      "KM3NeT & Long String/$\\bar{\\nu}_e$ & 0.0 & Mediterranean & 0/0 & 0/0 & 0/0 \\\\\n",
      "KamLAND & C$_n$H$_{2n}$/$\\bar{\\nu}_e$ & 1.0 & Japan & 189/188 & 363/349 & 350/233 \\\\\n",
      "Borexino & C$_n$H$_{2n}$/$\\bar{\\nu}_e$ & 0.278 & Italy & 52/52 & 101/97 & 97/64 \\\\\n",
      "JUNO & C$_n$H$_{2n}$/$\\bar{\\nu}_e$ & 20.0 & China & 3798/3769 & 7276/6995 & 7018/4661 \\\\\n",
      "SNO+ & C$_n$H$_{2n}$/$\\bar{\\nu}_e$ & 0.7 & Canada & 132/131 & 254/244 & 245/163 \\\\\n",
      "NO{$\\nu$}A & C$_n$H$_{2n}$/$\\bar{\\nu}_e$ & 15.0 & USA & 2849/2827 & 5457/5246 & 5263/3496 \\\\\n",
      "HALO & Lead/$\\nu_e$ & 0.079 & Canada & 4/3 & 9/8 & 10/9 \\\\\n",
      "HALO-1kT & Lead/$\\nu_e$ & 1.0 & Italy & 54/47 & 117/102 & 128/123 \\\\\n",
      "DUNE & Ar/$\\nu_e$ & 40.0 & USA & 2750/2485 & 5652/5133 & 6075/5910 \\\\\n",
      "MicroBooN & Ar/$\\nu_e$ & 0.09 & USA & 6/5 & 12/11 & 13/13 \\\\\n",
      "SBND & Ar/$\\nu_e$ & 0.12 & USA & 8/7 & 16/15 & 18/17 \\\\\n",
      "\\end{tabular}\n",
      "\\end{table}\n"
     ]
    }
   ],
   "source": [
    "filebase = {0:\"OConnor2015_s40WH07_LS220_summed_NoOsc_SNOformat\",\n",
    "            1:\"OConnor2015_s40WH07_LS220_summed_ANMO_SNOformat\",\n",
    "            2:\"OConnor2015_s40WH07_LS220_summed_AIMO_SNOformat\",\n",
    "            3:\"Bollig2016_s11.2c_LS220_summed_NoOsc_SNOformat\",\n",
    "            4:\"Bollig2016_s11.2c_LS220_summed_ANMO_SNOformat\",\n",
    "            5:\"Bollig2016_s11.2c_LS220_summed_AIMO_SNOformat\",\n",
    "            6:\"Bollig2016_s27.0c_LS220_summed_NoOsc_SNOformat\",\n",
    "            7:\"Bollig2016_s27.0c_LS220_summed_ANMO_SNOformat\",\n",
    "            8:\"Bollig2016_s27.0c_LS220_summed_AIMO_SNOformat\"}\n",
    "\n",
    "maps = {\"H$_2$O/$\\\\bar{\\\\nu}_e$\":\"WC\",\"Long String/$\\\\bar{\\\\nu}_e$\":\"icecube\",\"C$_n$H$_{2n}$/$\\\\bar{\\\\nu}_e$\":\"scint\",\"Lead/$\\\\nu_e$\":\"lead\",\"Ar/$\\\\nu_e$\":\"argon\"}\n",
    "\n",
    "\n",
    "data = {}\n",
    "data['Experiments'] = ['Super-Kamiokande','Hyper-Kamiokande','IceCube','KM3NeT','KamLAND','Borexino',\n",
    "                       'JUNO','SNO+','NO{$\\\\nu$}A','HALO','HALO-1kT','DUNE','MicroBooN','SBND']\n",
    "data['Type'] = [\"H$_2$O/$\\\\bar{\\\\nu}_e$\",\"H$_2$O/$\\\\bar{\\\\nu}_e$\",\"Long String/$\\\\bar{\\\\nu}_e$\",\n",
    "                \"Long String/$\\\\bar{\\\\nu}_e$\",'C$_n$H$_{2n}$/$\\\\bar{\\\\nu}_e$',\n",
    "                'C$_n$H$_{2n}$/$\\\\bar{\\\\nu}_e$','C$_n$H$_{2n}$/$\\\\bar{\\\\nu}_e$',\n",
    "                'C$_n$H$_{2n}$/$\\\\bar{\\\\nu}_e$','C$_n$H$_{2n}$/$\\\\bar{\\\\nu}_e$',\n",
    "                \"Lead/$\\\\nu_e$\",\"Lead/$\\\\nu_e$\",\"Ar/$\\\\nu_e$\",\"Ar/$\\\\nu_e$\",\"Ar/$\\\\nu_e$\"]\n",
    "data['Mass'] = [32,220,51600,0,1,0.278,20,0.7,15,0.079,1,40,0.09,0.12]\n",
    "data['Location'] = [\"Japan\",\"Japan\",\"South Pole\",\"Mediterranean\",\"Japan\",\"Italy\",\"China\",\n",
    "                    \"Canada\",\"USA\",\"Canada\",\"Italy\",\"USA\",\"USA\",\"USA\"]\n",
    "data['$11.2 M_\\\\odot$'] = []\n",
    "data['$27.0 M_\\\\odot$'] = []\n",
    "data['$40.0 M_\\\\odot$'] = []\n",
    "for experiment in range(len(data['Experiments'])):\n",
    "    mass = data['Mass'][experiment]\n",
    "    dettype = maps[data['Type'][experiment]]\n",
    "    \n",
    "    counts_LCN = int(get_SGresults(allSGdata[filebase[4]],SG_settings,dettype,mass))\n",
    "    counts_LCI = int(get_SGresults(allSGdata[filebase[5]],SG_settings,dettype,mass))\n",
    "    counts_MCN = int(get_SGresults(allSGdata[filebase[7]],SG_settings,dettype,mass))\n",
    "    counts_MCI = int(get_SGresults(allSGdata[filebase[8]],SG_settings,dettype,mass))\n",
    "    counts_HCN = int(get_SGresults(allSGdata[filebase[1]],SG_settings,dettype,mass))\n",
    "    counts_HCI = int(get_SGresults(allSGdata[filebase[2]],SG_settings,dettype,mass))\n",
    "    data['$11.2 M_\\\\odot$'].append(str(counts_LCN)+\"/\"+str(counts_LCI))\n",
    "    data['$27.0 M_\\\\odot$'].append(str(counts_MCN)+\"/\"+str(counts_MCI))\n",
    "    data['$40.0 M_\\\\odot$'].append(str(counts_HCN)+\"/\"+str(counts_HCI))\n",
    "    \n",
    "    \n",
    "    \n",
    "ascii.write(data,Writer=ascii.Latex)"
   ]
  },
  {
   "cell_type": "code",
   "execution_count": null,
   "metadata": {
    "scrolled": false
   },
   "outputs": [],
   "source": []
  },
  {
   "cell_type": "code",
   "execution_count": null,
   "metadata": {},
   "outputs": [],
   "source": []
  },
  {
   "cell_type": "code",
   "execution_count": null,
   "metadata": {},
   "outputs": [],
   "source": []
  }
 ],
 "metadata": {
  "kernelspec": {
   "display_name": "Python 3",
   "language": "python",
   "name": "python3"
  },
  "language_info": {
   "codemirror_mode": {
    "name": "ipython",
    "version": 3
   },
   "file_extension": ".py",
   "mimetype": "text/x-python",
   "name": "python",
   "nbconvert_exporter": "python",
   "pygments_lexer": "ipython3",
   "version": "3.7.4"
  }
 },
 "nbformat": 4,
 "nbformat_minor": 2
}
