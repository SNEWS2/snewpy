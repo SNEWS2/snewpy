{
 "cells": [
  {
   "cell_type": "markdown",
   "metadata": {},
   "source": [
    "# FORNAX 3D Neutrino Spectra\n",
    "\n",
    "Data taken from the HDF5 files available for download at [the Princeton group website](https://www.astro.princeton.edu/~burrows/nu-emissions.3d/data/)."
   ]
  },
  {
   "cell_type": "code",
   "execution_count": 1,
   "metadata": {},
   "outputs": [],
   "source": [
    "from snewpy.neutrino import Flavor\n",
    "from snewpy.models import Fornax_2019_3D\n",
    "\n",
    "from astropy import units as u\n",
    "\n",
    "from glob import glob\n",
    "\n",
    "import numpy as np\n",
    "import matplotlib as mpl\n",
    "import matplotlib.pyplot as plt"
   ]
  },
  {
   "cell_type": "code",
   "execution_count": 2,
   "metadata": {},
   "outputs": [],
   "source": [
    "mpl.rc('font', size=16)"
   ]
  },
  {
   "cell_type": "markdown",
   "metadata": {},
   "source": [
    "## Test Instantiation using a $10M_{\\odot}$ Model"
   ]
  },
  {
   "cell_type": "code",
   "execution_count": 3,
   "metadata": {},
   "outputs": [
    {
     "data": {
      "text/markdown": [
       "**Fornax 3D Model**: ../../models/Fornax_2019/lum_spec_10M.h5\n",
       "\n",
       "|Parameter|Value|\n",
       "|:---------|:-----:|\n",
       "|Progenitor mass | $10$ $\\mathrm{M_{\\odot}}$|"
      ],
      "text/plain": [
       "Fornax 3D Model: ../../models/Fornax_2019/lum_spec_10M.h5\n",
       "Progenitor mass : 10.0 solMass"
      ]
     },
     "execution_count": 3,
     "metadata": {},
     "output_type": "execute_result"
    }
   ],
   "source": [
    "model = Fornax_2019_3D('../../models/Fornax_2019/lum_spec_10M.h5')\n",
    "model"
   ]
  },
  {
   "cell_type": "code",
   "execution_count": 5,
   "metadata": {},
   "outputs": [
    {
     "data": {
      "text/latex": [
       "$[0.01,~0.011,~0.012,~\\dots,~0.765,~0.766,~0.767] \\; \\mathrm{s}$"
      ],
      "text/plain": [
       "<Quantity [0.01      , 0.011     , 0.012     , 0.013     , 0.014     ,\n",
       "           0.015     , 0.016     , 0.017     , 0.018     , 0.019     ,\n",
       "           0.02      , 0.021     , 0.022     , 0.023     , 0.024     ,\n",
       "           0.025     , 0.026     , 0.027     , 0.028     , 0.029     ,\n",
       "           0.03      , 0.031     , 0.032     , 0.033     , 0.034     ,\n",
       "           0.035     , 0.036     , 0.037     , 0.038     , 0.039     ,\n",
       "           0.04      , 0.041     , 0.042     , 0.043     , 0.044     ,\n",
       "           0.045     , 0.046     , 0.047     , 0.048     , 0.049     ,\n",
       "           0.05      , 0.05034647, 0.051     , 0.052     , 0.053     ,\n",
       "           0.054     , 0.055     , 0.056     , 0.057     , 0.058     ,\n",
       "           0.059     , 0.06      , 0.061     , 0.062     , 0.063     ,\n",
       "           0.064     , 0.065     , 0.066     , 0.067     , 0.068     ,\n",
       "           0.069     , 0.07      , 0.071     , 0.072     , 0.073     ,\n",
       "           0.074     , 0.075     , 0.076     , 0.077     , 0.078     ,\n",
       "           0.079     , 0.08      , 0.081     , 0.082     , 0.083     ,\n",
       "           0.084     , 0.085     , 0.086     , 0.087     , 0.088     ,\n",
       "           0.08896072, 0.089     , 0.09      , 0.091     , 0.092     ,\n",
       "           0.093     , 0.094     , 0.095     , 0.096     , 0.097     ,\n",
       "           0.098     , 0.099     , 0.1       , 0.101     , 0.102     ,\n",
       "           0.103     , 0.104     , 0.105     , 0.106     , 0.10624381,\n",
       "           0.107     , 0.108     , 0.109     , 0.11      , 0.111     ,\n",
       "           0.112     , 0.113     , 0.114     , 0.115     , 0.116     ,\n",
       "           0.117     , 0.118     , 0.119     , 0.12      , 0.121     ,\n",
       "           0.122     , 0.123     , 0.12335773, 0.124     , 0.125     ,\n",
       "           0.126     , 0.127     , 0.128     , 0.129     , 0.13      ,\n",
       "           0.131     , 0.132     , 0.133     , 0.134     , 0.135     ,\n",
       "           0.136     , 0.137     , 0.138     , 0.139     , 0.14      ,\n",
       "           0.14042221, 0.141     , 0.142     , 0.143     , 0.144     ,\n",
       "           0.145     , 0.146     , 0.147     , 0.148     , 0.149     ,\n",
       "           0.15      , 0.151     , 0.152     , 0.153     , 0.154     ,\n",
       "           0.155     , 0.156     , 0.157     , 0.15766517, 0.158     ,\n",
       "           0.159     , 0.16      , 0.161     , 0.162     , 0.163     ,\n",
       "           0.164     , 0.165     , 0.166     , 0.167     , 0.168     ,\n",
       "           0.169     , 0.17      , 0.171     , 0.172     , 0.173     ,\n",
       "           0.174     , 0.175     , 0.17526676, 0.176     , 0.177     ,\n",
       "           0.178     , 0.179     , 0.18      , 0.181     , 0.182     ,\n",
       "           0.183     , 0.184     , 0.185     , 0.186     , 0.187     ,\n",
       "           0.188     , 0.189     , 0.19      , 0.191     , 0.192     ,\n",
       "           0.193     , 0.19322727, 0.194     , 0.195     , 0.196     ,\n",
       "           0.197     , 0.198     , 0.199     , 0.2       , 0.201     ,\n",
       "           0.202     , 0.203     , 0.204     , 0.205     , 0.206     ,\n",
       "           0.207     , 0.208     , 0.209     , 0.21      , 0.211     ,\n",
       "           0.21102254, 0.212     , 0.213     , 0.214     , 0.215     ,\n",
       "           0.216     , 0.217     , 0.218     , 0.219     , 0.22      ,\n",
       "           0.221     , 0.222     , 0.223     , 0.224     , 0.225     ,\n",
       "           0.226     , 0.227     , 0.228     , 0.229     , 0.22900093,\n",
       "           0.23      , 0.231     , 0.232     , 0.233     , 0.234     ,\n",
       "           0.235     , 0.236     , 0.237     , 0.238     , 0.239     ,\n",
       "           0.24      , 0.241     , 0.242     , 0.243     , 0.244     ,\n",
       "           0.245     , 0.246     , 0.24687363, 0.247     , 0.248     ,\n",
       "           0.249     , 0.25      , 0.251     , 0.252     , 0.253     ,\n",
       "           0.254     , 0.255     , 0.256     , 0.257     , 0.258     ,\n",
       "           0.259     , 0.26      , 0.261     , 0.262     , 0.263     ,\n",
       "           0.264     , 0.26436299, 0.265     , 0.266     , 0.267     ,\n",
       "           0.268     , 0.269     , 0.27      , 0.271     , 0.272     ,\n",
       "           0.273     , 0.274     , 0.275     , 0.276     , 0.277     ,\n",
       "           0.278     , 0.279     , 0.28      , 0.281     , 0.282     ,\n",
       "           0.28200092, 0.283     , 0.284     , 0.285     , 0.286     ,\n",
       "           0.287     , 0.288     , 0.289     , 0.29      , 0.291     ,\n",
       "           0.292     , 0.293     , 0.294     , 0.295     , 0.296     ,\n",
       "           0.297     , 0.298     , 0.299     , 0.29959297, 0.3       ,\n",
       "           0.301     , 0.302     , 0.303     , 0.304     , 0.305     ,\n",
       "           0.306     , 0.307     , 0.308     , 0.309     , 0.31      ,\n",
       "           0.311     , 0.312     , 0.313     , 0.314     , 0.315     ,\n",
       "           0.316     , 0.317     , 0.31700724, 0.318     , 0.319     ,\n",
       "           0.32      , 0.321     , 0.322     , 0.323     , 0.324     ,\n",
       "           0.325     , 0.326     , 0.327     , 0.328     , 0.329     ,\n",
       "           0.33      , 0.331     , 0.332     , 0.333     , 0.334     ,\n",
       "           0.33421206, 0.335     , 0.336     , 0.337     , 0.338     ,\n",
       "           0.339     , 0.34      , 0.341     , 0.342     , 0.343     ,\n",
       "           0.344     , 0.345     , 0.346     , 0.347     , 0.348     ,\n",
       "           0.349     , 0.35      , 0.351     , 0.35135715, 0.352     ,\n",
       "           0.353     , 0.354     , 0.355     , 0.356     , 0.357     ,\n",
       "           0.358     , 0.359     , 0.36      , 0.361     , 0.362     ,\n",
       "           0.363     , 0.364     , 0.365     , 0.366     , 0.367     ,\n",
       "           0.368     , 0.36845697, 0.369     , 0.37      , 0.371     ,\n",
       "           0.372     , 0.373     , 0.374     , 0.375     , 0.376     ,\n",
       "           0.377     , 0.378     , 0.379     , 0.38      , 0.381     ,\n",
       "           0.382     , 0.383     , 0.384     , 0.385     , 0.38550349,\n",
       "           0.386     , 0.387     , 0.388     , 0.389     , 0.39      ,\n",
       "           0.391     , 0.392     , 0.393     , 0.394     , 0.395     ,\n",
       "           0.396     , 0.397     , 0.398     , 0.399     , 0.4       ,\n",
       "           0.401     , 0.402     , 0.40241718, 0.403     , 0.404     ,\n",
       "           0.405     , 0.406     , 0.407     , 0.408     , 0.409     ,\n",
       "           0.41      , 0.411     , 0.412     , 0.413     , 0.414     ,\n",
       "           0.415     , 0.416     , 0.417     , 0.418     , 0.419     ,\n",
       "           0.41925786, 0.42      , 0.421     , 0.422     , 0.423     ,\n",
       "           0.424     , 0.425     , 0.426     , 0.427     , 0.428     ,\n",
       "           0.429     , 0.43      , 0.431     , 0.432     , 0.433     ,\n",
       "           0.434     , 0.435     , 0.436     , 0.43600087, 0.437     ,\n",
       "           0.438     , 0.439     , 0.44      , 0.441     , 0.442     ,\n",
       "           0.443     , 0.444     , 0.445     , 0.446     , 0.447     ,\n",
       "           0.448     , 0.449     , 0.45      , 0.451     , 0.452     ,\n",
       "           0.45253499, 0.453     , 0.454     , 0.455     , 0.456     ,\n",
       "           0.457     , 0.458     , 0.459     , 0.46      , 0.461     ,\n",
       "           0.462     , 0.463     , 0.464     , 0.465     , 0.466     ,\n",
       "           0.467     , 0.468     , 0.469     , 0.46913624, 0.47      ,\n",
       "           0.471     , 0.472     , 0.473     , 0.474     , 0.475     ,\n",
       "           0.476     , 0.477     , 0.478     , 0.479     , 0.48      ,\n",
       "           0.481     , 0.482     , 0.483     , 0.484     , 0.485     ,\n",
       "           0.48555998, 0.486     , 0.487     , 0.488     , 0.489     ,\n",
       "           0.49      , 0.491     , 0.492     , 0.493     , 0.494     ,\n",
       "           0.495     , 0.496     , 0.497     , 0.498     , 0.499     ,\n",
       "           0.5       , 0.501     , 0.5019031 , 0.502     , 0.503     ,\n",
       "           0.504     , 0.505     , 0.506     , 0.507     , 0.508     ,\n",
       "           0.509     , 0.51      , 0.511     , 0.512     , 0.513     ,\n",
       "           0.514     , 0.515     , 0.516     , 0.517     , 0.518     ,\n",
       "           0.51816276, 0.519     , 0.52      , 0.521     , 0.522     ,\n",
       "           0.523     , 0.524     , 0.525     , 0.526     , 0.527     ,\n",
       "           0.528     , 0.529     , 0.53      , 0.531     , 0.532     ,\n",
       "           0.533     , 0.534     , 0.53430045, 0.535     , 0.536     ,\n",
       "           0.537     , 0.538     , 0.539     , 0.54      , 0.541     ,\n",
       "           0.542     , 0.543     , 0.544     , 0.545     , 0.546     ,\n",
       "           0.547     , 0.548     , 0.549     , 0.55      , 0.55050624,\n",
       "           0.551     , 0.552     , 0.553     , 0.554     , 0.555     ,\n",
       "           0.556     , 0.557     , 0.558     , 0.559     , 0.56      ,\n",
       "           0.561     , 0.562     , 0.563     , 0.564     , 0.565     ,\n",
       "           0.566     , 0.56656801, 0.567     , 0.568     , 0.569     ,\n",
       "           0.57      , 0.571     , 0.572     , 0.573     , 0.574     ,\n",
       "           0.575     , 0.576     , 0.577     , 0.578     , 0.579     ,\n",
       "           0.58      , 0.581     , 0.582     , 0.58267232, 0.583     ,\n",
       "           0.584     , 0.585     , 0.586     , 0.587     , 0.588     ,\n",
       "           0.589     , 0.59      , 0.591     , 0.592     , 0.593     ,\n",
       "           0.594     , 0.595     , 0.596     , 0.597     , 0.598     ,\n",
       "           0.59861997, 0.599     , 0.6       , 0.601     , 0.602     ,\n",
       "           0.603     , 0.604     , 0.605     , 0.606     , 0.607     ,\n",
       "           0.608     , 0.609     , 0.61      , 0.611     , 0.612     ,\n",
       "           0.613     , 0.614     , 0.61460019, 0.615     , 0.616     ,\n",
       "           0.617     , 0.618     , 0.619     , 0.62      , 0.621     ,\n",
       "           0.622     , 0.623     , 0.624     , 0.625     , 0.626     ,\n",
       "           0.627     , 0.628     , 0.629     , 0.63      , 0.63032299,\n",
       "           0.631     , 0.632     , 0.633     , 0.634     , 0.635     ,\n",
       "           0.636     , 0.637     , 0.638     , 0.639     , 0.64      ,\n",
       "           0.641     , 0.642     , 0.643     , 0.644     , 0.645     ,\n",
       "           0.64541135, 0.646     , 0.647     , 0.648     , 0.649     ,\n",
       "           0.65      , 0.651     , 0.652     , 0.653     , 0.654     ,\n",
       "           0.655     , 0.656     , 0.657     , 0.658     , 0.659     ,\n",
       "           0.66      , 0.66042686, 0.661     , 0.662     , 0.663     ,\n",
       "           0.664     , 0.665     , 0.666     , 0.667     , 0.668     ,\n",
       "           0.669     , 0.67      , 0.671     , 0.672     , 0.673     ,\n",
       "           0.674     , 0.675     , 0.676     , 0.67617298, 0.677     ,\n",
       "           0.678     , 0.679     , 0.68      , 0.681     , 0.682     ,\n",
       "           0.683     , 0.684     , 0.685     , 0.686     , 0.687     ,\n",
       "           0.688     , 0.689     , 0.69      , 0.691     , 0.69177481,\n",
       "           0.692     , 0.693     , 0.694     , 0.695     , 0.696     ,\n",
       "           0.697     , 0.698     , 0.699     , 0.7       , 0.701     ,\n",
       "           0.702     , 0.703     , 0.704     , 0.705     , 0.706     ,\n",
       "           0.707     , 0.70723912, 0.708     , 0.709     , 0.71      ,\n",
       "           0.711     , 0.712     , 0.713     , 0.714     , 0.715     ,\n",
       "           0.716     , 0.717     , 0.718     , 0.719     , 0.72      ,\n",
       "           0.721     , 0.722     , 0.72269558, 0.723     , 0.724     ,\n",
       "           0.725     , 0.726     , 0.727     , 0.728     , 0.729     ,\n",
       "           0.73      , 0.731     , 0.732     , 0.733     , 0.734     ,\n",
       "           0.735     , 0.736     , 0.737     , 0.738     , 0.73800717,\n",
       "           0.739     , 0.74      , 0.741     , 0.742     , 0.743     ,\n",
       "           0.744     , 0.745     , 0.746     , 0.747     , 0.748     ,\n",
       "           0.749     , 0.75      , 0.751     , 0.752     , 0.753     ,\n",
       "           0.75325563, 0.754     , 0.755     , 0.756     , 0.757     ,\n",
       "           0.758     , 0.759     , 0.76      , 0.761     , 0.762     ,\n",
       "           0.763     , 0.764     , 0.765     , 0.766     , 0.767     ] s>"
      ]
     },
     "execution_count": 5,
     "metadata": {},
     "output_type": "execute_result"
    }
   ],
   "source": [
    "model.get_time()"
   ]
  },
  {
   "cell_type": "code",
   "execution_count": 6,
   "metadata": {},
   "outputs": [],
   "source": [
    "t = 200 * u.ms\n",
    "E = np.arange(0,101) * u.MeV\n",
    "theta = 20*u.degree\n",
    "phi = 20*u.degree\n",
    "\n",
    "spectra = model.get_initialspectra(t, E, theta, phi)"
   ]
  },
  {
   "cell_type": "code",
   "execution_count": 7,
   "metadata": {},
   "outputs": [
    {
     "data": {
      "text/plain": [
       "<matplotlib.legend.Legend at 0x7fd9730b5f90>"
      ]
     },
     "execution_count": 7,
     "metadata": {},
     "output_type": "execute_result"
    },
    {
     "data": {
      "image/png": "[encoded data removed]",
      "text/plain": [
       "<Figure size 432x288 with 1 Axes>"
      ]
     },
     "metadata": {
      "needs_background": "light"
     },
     "output_type": "display_data"
    }
   ],
   "source": [
    "for flavor in Flavor:\n",
    "    plt.plot(E, spectra[flavor], label=flavor.to_tex())\n",
    "plt.legend()"
   ]
  },
  {
   "cell_type": "code",
   "execution_count": null,
   "metadata": {},
   "outputs": [],
   "source": []
  }
 ],
 "metadata": {
  "kernelspec": {
   "display_name": "Python 3",
   "language": "python",
   "name": "python3"
  },
  "language_info": {
   "codemirror_mode": {
    "name": "ipython",
    "version": 3
   },
   "file_extension": ".py",
   "mimetype": "text/x-python",
   "name": "python",
   "nbconvert_exporter": "python",
   "pygments_lexer": "ipython3",
   "version": "3.7.4"
  }
 },
 "nbformat": 4,
 "nbformat_minor": 5
}
