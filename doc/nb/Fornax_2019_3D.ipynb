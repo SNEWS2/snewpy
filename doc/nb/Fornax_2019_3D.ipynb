{
 "cells": [
  {
   "cell_type": "markdown",
   "metadata": {},
   "source": [
    "# FORNAX 3D Neutrino Spectra\n",
    "\n",
    "Some I/O and plotting using the Fornax 3D models from [Vartanyan, Burrows, et al., MNRAS 482(1):351, 2019](https://arxiv.org/abs/1809.05106), which express the angular dependence of the neutrino luminosity from CCSNe in terms of a spherical harmonic expansion up to order $\\ell=2$.\n",
    "\n",
    "The data are available on [the Burrows group website](https://www.astro.princeton.edu/~burrows/nu-emissions.3d/)."
   ]
  },
  {
   "cell_type": "code",
   "execution_count": 1,
   "metadata": {},
   "outputs": [],
   "source": [
    "from snewpy.neutrino import Flavor\n",
    "from snewpy.models import Fornax_2019_3D\n",
    "\n",
    "from astropy import units as u\n",
    "\n",
    "from glob import glob\n",
    "\n",
    "import numpy as np\n",
    "import matplotlib as mpl\n",
    "import matplotlib.pyplot as plt"
   ]
  },
  {
   "cell_type": "code",
   "execution_count": 2,
   "metadata": {},
   "outputs": [],
   "source": [
    "mpl.rc('font', size=16)"
   ]
  },
  {
   "cell_type": "markdown",
   "metadata": {},
   "source": [
    "## Test Instantiation using a $10M_{\\odot}$ Model"
   ]
  },
  {
   "cell_type": "code",
   "execution_count": 3,
   "metadata": {},
   "outputs": [
    {
     "data": {
      "text/markdown": [
       "**Fornax 3D Model**: ../../models/Fornax_2019/lum_spec_10M.h5\n",
       "\n",
       "|Parameter|Value|\n",
       "|:---------|:-----:|\n",
       "|Progenitor mass | $10$ $\\mathrm{M_{\\odot}}$|"
      ],
      "text/plain": [
       "Fornax 3D Model: ../../models/Fornax_2019/lum_spec_10M.h5\n",
       "Progenitor mass : 10.0 solMass"
      ]
     },
     "execution_count": 3,
     "metadata": {},
     "output_type": "execute_result"
    }
   ],
   "source": [
    "model = Fornax_2019_3D('../../models/Fornax_2019/lum_spec_10M.h5')\n",
    "model"
   ]
  },
  {
   "cell_type": "code",
   "execution_count": 5,
   "metadata": {},
   "outputs": [
    {
     "data": {
      "text/plain": [
       "(<Quantity [  1.24497987,   2.00257642,   3.2211865 ,   5.18134656,\n",
       "              8.33430544,  13.40590643,  21.56368381,  34.68564113,\n",
       "             55.79258678,  89.74355493, 144.3544047 , 232.19711067] MeV>,\n",
       " <Quantity [4.82964294e+48, 1.84378966e+49, 1.32565946e+50, 4.59221029e+50,\n",
       "            9.15665038e+50, 1.09921094e+51, 6.07187503e+50, 1.30073448e+50,\n",
       "            5.85847804e+48, 2.78255236e+46, 7.84490124e+44, 1.12724333e+43] erg / (MeV s)>)"
      ]
     },
     "execution_count": 5,
     "metadata": {},
     "output_type": "execute_result"
    }
   ],
   "source": [
    "energy, dE, spectra = model._get_binnedspectra(0.5*u.s, 55*u.deg, 32*u.deg)\n",
    "energy[Flavor.NU_E], spectra[Flavor.NU_E]"
   ]
  },
  {
   "cell_type": "code",
   "execution_count": null,
   "metadata": {},
   "outputs": [],
   "source": [
    "t = 600 * u.ms\n",
    "E = np.arange(0,101) * u.MeV\n",
    "theta = 20*u.degree\n",
    "phi = 20*u.degree\n",
    "\n",
    "spectra = model.get_initialspectra(t, E, theta, phi)"
   ]
  },
  {
   "cell_type": "code",
   "execution_count": null,
   "metadata": {},
   "outputs": [],
   "source": [
    "lines = ['--', '-.', '-', ':']\n",
    "for line, flavor in zip(lines, Flavor):\n",
    "    plt.plot(E, spectra[flavor], ls=line, label=flavor.to_tex())\n",
    "plt.legend()"
   ]
  },
  {
   "cell_type": "markdown",
   "metadata": {},
   "source": [
    "## Test Caching of Full Model Angular Dependence"
   ]
  },
  {
   "cell_type": "code",
   "execution_count": null,
   "metadata": {},
   "outputs": [],
   "source": [
    "model = Fornax_2019_3D('../../models/Fornax_2019/lum_spec_10M.h5', cache_flux=True)\n",
    "model"
   ]
  },
  {
   "cell_type": "code",
   "execution_count": null,
   "metadata": {},
   "outputs": [],
   "source": [
    "import healpy as hp\n",
    "\n",
    "fig, axes = plt.subplots(5,3, figsize=(8*3, 5*4.5))\n",
    "\n",
    "nt = len(model.time)\n",
    "L_nue = model.luminosity[Flavor.NU_E].to('1e52*erg/s')\n",
    "L_nue_bar = model.luminosity[Flavor.NU_E_BAR].to('1e52*erg/s')\n",
    "L_nux = model.luminosity[Flavor.NU_X].to('1e52*erg/s')\n",
    "\n",
    "for i in range(5):\n",
    "    j = i*nt//5\n",
    "    \n",
    "    ax = axes[i,0]\n",
    "    plt.axes(ax)\n",
    "    hp.mollview(L_nue[j], title=r'$L_{{\\nu_e}}(t={:.3f})$'.format(model.time[j]),\n",
    "                unit=r'$10^{52}$ erg s$^{-1}$', cmap='viridis',\n",
    "                hold=True)\n",
    "    \n",
    "    ax = axes[i,1]\n",
    "    plt.axes(ax)\n",
    "    hp.mollview(L_nue_bar[j], title=r'$L_{{\\bar{{\\nu}}_e}}(t={:.3f})$'.format(model.time[j]),\n",
    "                unit=r'$10^{52}$ erg s$^{-1}$', cmap='magma',\n",
    "                hold=True)\n",
    "    \n",
    "    ax = axes[i,2]\n",
    "    plt.axes(ax)\n",
    "    hp.mollview(L_nux[j], title=r'$L_{{\\nu_X}}(t={:.3f})$'.format(model.time[j]),\n",
    "                unit=r'$10^{52}$ erg s$^{-1}$', cmap='plasma',\n",
    "                hold=True)"
   ]
  },
  {
   "cell_type": "markdown",
   "metadata": {},
   "source": [
    "### Plot $L_\\nu(t,\\theta,\\varphi)$ at a Particular Location"
   ]
  },
  {
   "cell_type": "code",
   "execution_count": null,
   "metadata": {},
   "outputs": [],
   "source": [
    "k = 55\n",
    "\n",
    "fig, ax = plt.subplots(1,1, figsize=(10,5), tight_layout=True)\n",
    "ax.plot(model.time, L_nue[:,k], lw=2, label=r'$\\nu_e$')\n",
    "ax.plot(model.time, L_nue_bar[:,k], lw=2, label=r'$\\bar{\\nu}_e$')\n",
    "ax.plot(model.time, L_nux[:,k], lw=2, label=r'$\\nu_X$')\n",
    "ax.set(xlabel='time [s]',\n",
    "       xlim=model.time[0::len(model.time)-1].value,\n",
    "       ylabel=r'$L_{\\nu}(t,\\theta,\\varphi)$ [$10^{52}$ erg s$^{-1}$]',\n",
    "       ylim=(0, 1.1*np.max(L_nue).value))\n",
    "ax.grid(ls=':')\n",
    "ax.legend(fontsize=12);"
   ]
  },
  {
   "cell_type": "markdown",
   "metadata": {},
   "source": [
    "### Superimpose $L_\\nu(t,\\theta,\\varphi)$ at All Locations on the Sphere\n",
    "\n",
    "Plot $L(t)$ at all locations as well as the average, and then the deviation from the average."
   ]
  },
  {
   "cell_type": "code",
   "execution_count": null,
   "metadata": {},
   "outputs": [],
   "source": [
    "Lavg = np.average(L_nue, axis=1)\n",
    "dL_over_L = (L_nue - Lavg[:,np.newaxis]) / Lavg[:,np.newaxis]\n",
    "\n",
    "fig, axes = plt.subplots(2,1, figsize=(10,8),\n",
    "                         gridspec_kw = {'height_ratios':[3,1], 'hspace':0},\n",
    "                         sharex=True, tight_layout=True)\n",
    "\n",
    "ax = axes[0]\n",
    "ax.plot(model.time, L_nue, color='gray', alpha=0.05)\n",
    "ax.plot(model.time, Lavg, color='r', ls='--')\n",
    "ax.set(xlim=model.time[0::len(model.time)-1].value,\n",
    "       ylabel=r'$L_{\\nu_e}(t,\\theta,\\varphi)$ [$10^{52}$ erg s$^{-1}$]',\n",
    "       ylim=(0, 1.1*np.max(L_nue).value),\n",
    "       title=r'$L_{\\nu_e}(t,\\theta,\\varphi)$')\n",
    "ax.grid(ls=':')\n",
    "\n",
    "ax = axes[1]\n",
    "ax.plot(model.time, dL_over_L, color='gray', alpha=0.1)\n",
    "ax.plot(model.time, np.zeros(model.time.shape), ls='--', color='r')\n",
    "ax.set(xlabel='time [s]',\n",
    "       ylabel=r'$(L_\\nu - \\bar{L}_\\nu)/\\bar{L}_\\nu$',\n",
    "       ylim=(-0.3, 0.3))\n",
    "ax.grid(ls=':');"
   ]
  },
  {
   "cell_type": "code",
   "execution_count": null,
   "metadata": {},
   "outputs": [],
   "source": [
    "energy, spectra = model._get_binnedspectra(0.5*u.s, 55*u.deg, 32*u.deg)\n",
    "np.log10(energy[Flavor.NU_E])"
   ]
  },
  {
   "cell_type": "code",
   "execution_count": null,
   "metadata": {},
   "outputs": [],
   "source": [
    "j, k = 200, 73"
   ]
  },
  {
   "cell_type": "code",
   "execution_count": null,
   "metadata": {},
   "outputs": [],
   "source": [
    "model.dLdE[flavor][j,:,k].shape"
   ]
  },
  {
   "cell_type": "code",
   "execution_count": null,
   "metadata": {},
   "outputs": [],
   "source": [
    "model.E"
   ]
  },
  {
   "cell_type": "code",
   "execution_count": null,
   "metadata": {},
   "outputs": [],
   "source": []
  }
 ],
 "metadata": {
  "kernelspec": {
   "display_name": "Python 3",
   "language": "python",
   "name": "python3"
  },
  "language_info": {
   "codemirror_mode": {
    "name": "ipython",
    "version": 3
   },
   "file_extension": ".py",
   "mimetype": "text/x-python",
   "name": "python",
   "nbconvert_exporter": "python",
   "pygments_lexer": "ipython3",
   "version": "3.7.4"
  }
 },
 "nbformat": 4,
 "nbformat_minor": 5
}
