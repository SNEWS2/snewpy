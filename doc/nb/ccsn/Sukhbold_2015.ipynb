{
 "cells": [
  {
   "cell_type": "markdown",
   "metadata": {},
   "source": [
    "# Sukhbold 2015 Models\n",
    "\n",
    "CSN neutrino models from the MPA Garching CCSN archive based on the paper by Sukhbold et al., 2015. The archive is available on\n",
    "[their website](https://wwwmpa.mpa-garching.mpg.de/ccsnarchive/data/SEWBJ_2015/index.html), but the data are private and available only upon request.\n",
    "Note these are the results using the PROMETHEUS-VERTEX code https://ui.adsabs.harvard.edu/abs/2002A%26A...396..361R/abstract.\n",
    "The four models are also described in Appendix C of this paper https://arxiv.org/abs/2010.04728\n",
    "\n",
    "The citation is: *Core-Collapse Supernovae from 9 to 120 Solar Masses Based on Neutrino-powered Explosions*, Tuguldur Sukhbold, T. Ertl, S. E. Woosley, Justin M. Brown, H.-T. Janka, [Astrophys. J. 821 (2016)\n",
    "38](http://dx.doi.org/10.3847/0004-637X/821/1/38), [arXiv:1510.04643](http://arxiv.org/abs/1510.04643)."
   ]
  },
  {
   "cell_type": "code",
   "execution_count": null,
   "metadata": {},
   "outputs": [],
   "source": [
    "import matplotlib as mpl\n",
    "import matplotlib.pyplot as plt\n",
    "import numpy as np\n",
    "\n",
    "from astropy import units as u \n",
    "\n",
    "from snewpy.neutrino import Flavor, MassHierarchy\n",
    "from snewpy.models.ccsn import Sukhbold_2015\n",
    "from snewpy.flavor_transformation import NoTransformation, AdiabaticMSW, ThreeFlavorDecoherence\n",
    "\n",
    "mpl.rc('font', size=16)\n",
    "%matplotlib inline"
   ]
  },
  {
   "cell_type": "markdown",
   "metadata": {},
   "source": [
    "## Initialize Models\n",
    "\n",
    "To start, let’s see what progenitors are available for the `Sukhbold_2015` model. We can use the `param` property to view all physics parameters and their possible values:"
   ]
  },
  {
   "cell_type": "code",
   "execution_count": null,
   "metadata": {},
   "outputs": [],
   "source": [
    "Sukhbold_2015.param"
   ]
  },
  {
   "cell_type": "markdown",
   "metadata": {},
   "source": [
    "We’ll initialise two of these progenitors. If this is the first time you’re using a progenitor, snewpy will automatically download the required data files for you."
   ]
  },
  {
   "cell_type": "code",
   "execution_count": null,
   "metadata": {},
   "outputs": [],
   "source": [
    "mls220 = Sukhbold_2015(progenitor_mass=27*u.solMass, eos='LS220')\n",
    "msfho = Sukhbold_2015(progenitor_mass=27*u.solMass, eos='SFHo')\n",
    "\n",
    "mls220"
   ]
  },
  {
   "cell_type": "markdown",
   "metadata": {},
   "source": [
    "Finally, let’s plot the luminosity of different neutrino flavors for this model. (Note that the `Sukhbold_2015` simulations didn’t distinguish between $\\nu_x$ and $\\bar{\\nu}_x$, so both have the same luminosity.)"
   ]
  },
  {
   "cell_type": "code",
   "execution_count": null,
   "metadata": {},
   "outputs": [],
   "source": [
    "\n",
    "fig, axes = plt.subplots(1, 2, figsize=(12, 5), sharex=True, sharey=True, tight_layout=True)\n",
    "\n",
    "for i, model in enumerate([mls220, msfho]):\n",
    "    ax = axes[i]\n",
    "    for flavor in Flavor:\n",
    "        ax.plot(model.time, model.luminosity[flavor]/1e51,  # Report luminosity in units foe/s\n",
    "                label=flavor.to_tex(),\n",
    "                color='C0' if flavor.is_electron else 'C1',\n",
    "                ls='-' if flavor.is_neutrino else ':',\n",
    "                lw=2)\n",
    "    ax.set(xlim=(-0.05, 0.65),\n",
    "           xlabel=r'$t-t_{\\rm bounce}$ [s]',\n",
    "           title=r'{}: {} $M_\\odot$'.format(model.metadata['EOS'], model.metadata['Progenitor mass'].value))\n",
    "    ax.grid()\n",
    "    ax.legend(loc='upper right', ncol=2, fontsize=18)\n",
    "\n",
    "axes[0].set(ylabel=r'luminosity [foe s$^{-1}$]');"
   ]
  },
  {
   "cell_type": "markdown",
   "metadata": {},
   "source": [
    "## Initial and Oscillated Spectra\n",
    "\n",
    "Plot the neutrino spectra at the source and after the requested flavor transformation has been applied.\n",
    "\n",
    "### Adiabatic MSW Flavor Transformation: Normal mass ordering"
   ]
  },
  {
   "cell_type": "code",
   "execution_count": null,
   "metadata": {},
   "outputs": [],
   "source": [
    "# Adiabatic MSW effect. NMO is used by default.\n",
    "xform_nmo = AdiabaticMSW()\n",
    "\n",
    "# Energy array and time to compute spectra.\n",
    "# Note that any convenient units can be used and the calculation will remain internally consistent.\n",
    "E = np.linspace(0,100,201) * u.MeV\n",
    "t = 50*u.ms\n",
    "\n",
    "ispec = model.get_initial_spectra(t, E)\n",
    "ospec_nmo = model.get_transformed_spectra(t, E, xform_nmo)"
   ]
  },
  {
   "cell_type": "code",
   "execution_count": null,
   "metadata": {},
   "outputs": [],
   "source": [
    "fig, axes = plt.subplots(1,2, figsize=(12,5), sharex=True, sharey=True, tight_layout=True)\n",
    "\n",
    "for i, spec in enumerate([ispec, ospec_nmo]):\n",
    "    ax = axes[i]\n",
    "    for flavor in Flavor:\n",
    "        ax.plot(E, spec[flavor],\n",
    "                label=flavor.to_tex(),\n",
    "                color='C0' if flavor.is_electron else 'C1',\n",
    "                ls='-' if flavor.is_neutrino else ':', lw=2,\n",
    "                alpha=0.7)\n",
    "\n",
    "    ax.set(xlabel=r'$E$ [{}]'.format(E.unit),\n",
    "           title='Initial Spectra: $t = ${:.1f}'.format(t) if i==0 else 'Oscillated Spectra: $t = ${:.1f}'.format(t))\n",
    "    ax.grid()\n",
    "    ax.legend(loc='upper right', ncol=2, fontsize=16)\n",
    "\n",
    "ax = axes[0]\n",
    "ax.set(ylabel=r'flux [erg$^{-1}$ s$^{-1}$]')\n",
    "\n",
    "fig.tight_layout();"
   ]
  }
 ],
 "metadata": {
  "kernelspec": {
   "display_name": "Python 3.9.5 ('snews')",
   "language": "python",
   "name": "python3"
  },
  "language_info": {
   "codemirror_mode": {
    "name": "ipython",
    "version": 3
   },
   "file_extension": ".py",
   "mimetype": "text/x-python",
   "name": "python",
   "nbconvert_exporter": "python",
   "pygments_lexer": "ipython3",
   "version": "3.9.5"
  },
  "vscode": {
   "interpreter": {
    "hash": "e2528887d751495e023d57d695389d9a04f4c4d2e5866aaf6dc03a1ed45c573e"
   }
  }
 },
 "nbformat": 4,
 "nbformat_minor": 2
}
