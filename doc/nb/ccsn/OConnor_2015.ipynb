{
 "cells": [
  {
   "cell_type": "markdown",
   "metadata": {},
   "source": [
    "# O'Connor 2015 Models\n",
    "\n",
    "Data from O'Connor 2015, black hole forming simulations of a 40 solar mass progenitor from Woosley and Heger 2007 and the LS220 EOS.\n",
    "  \n",
    "Reference: O'Connor ApJS 219 24 2015\n",
    "- doi:10.1088/0067-0049/219/2/24\n",
    "- arXiv:1411.7058"
   ]
  },
  {
   "cell_type": "code",
   "execution_count": null,
   "metadata": {},
   "outputs": [],
   "source": [
    "import matplotlib as mpl\n",
    "import matplotlib.pyplot as plt\n",
    "import numpy as np\n",
    "\n",
    "from astropy import units as u \n",
    "\n",
    "from snewpy.neutrino import Flavor, MassHierarchy\n",
    "from snewpy.models.ccsn import OConnor_2015\n",
    "from snewpy.flavor_transformation import NoTransformation, AdiabaticMSW, ThreeFlavorDecoherence\n",
    "\n",
    "mpl.rc('font', size=16)\n",
    "%matplotlib inline"
   ]
  },
  {
   "cell_type": "markdown",
   "metadata": {},
   "source": [
    "## Initialize Models\n",
    "\n",
    "To start, let’s see what progenitors are available for the `OConnor_2015` model. We can use the `param` property to view all physics parameters and their possible values:"
   ]
  },
  {
   "cell_type": "code",
   "execution_count": null,
   "metadata": {},
   "outputs": [],
   "source": [
    "OConnor_2015.param"
   ]
  },
  {
   "cell_type": "markdown",
   "metadata": {},
   "source": [
    "We’ll initialise this progenitor. If this is the first time you’re using a progenitor, snewpy will automatically download the required data files for you."
   ]
  },
  {
   "cell_type": "code",
   "execution_count": null,
   "metadata": {},
   "outputs": [],
   "source": [
    "model = OConnor_2015(progenitor_mass=40*u.solMass)\n",
    "\n",
    "model"
   ]
  },
  {
   "cell_type": "markdown",
   "metadata": {},
   "source": [
    "Finally, let’s plot the luminosity of different neutrino flavors for this model. (Note that the `OConnor_2015` simulation didn’t distinguish between $\\nu_x$ and $\\bar{\\nu}_x$, so both have the same luminosity.)"
   ]
  },
  {
   "cell_type": "code",
   "execution_count": null,
   "metadata": {},
   "outputs": [],
   "source": [
    "fig, ax = plt.subplots(1, figsize=(8, 6), tight_layout=False)\n",
    "\n",
    "for flavor in Flavor:\n",
    "    ax.plot(model.time, model.luminosity[flavor]/1e51,  # Report luminosity in units foe/s\n",
    "            label=flavor.to_tex(),\n",
    "            color='C0' if flavor.is_electron else 'C1',\n",
    "            ls='-' if flavor.is_neutrino else ':',\n",
    "            lw=2)\n",
    "ax.set(xlim=(0, 0.55),\n",
    "        xlabel=r'$t-t_{\\rm bounce}$ [s]',\n",
    "        title=r'{}: {} $M_\\odot$'.format(model.metadata['EOS'], model.metadata['Progenitor mass'].value))\n",
    "ax.grid()\n",
    "ax.legend(loc='upper right', ncol=2, fontsize=18)\n",
    "ax.set(ylabel=r'luminosity [foe s$^{-1}$]');\n"
   ]
  },
  {
   "cell_type": "markdown",
   "metadata": {},
   "source": [
    "## Initial and Oscillated Spectra\n",
    "\n",
    "Plot the neutrino spectra at the source and after the requested flavor transformation has been applied.\n",
    "\n",
    "### Adiabatic MSW Flavor Transformation: Normal mass ordering"
   ]
  },
  {
   "cell_type": "code",
   "execution_count": null,
   "metadata": {},
   "outputs": [],
   "source": [
    "# Adiabatic MSW effect. NMO is used by default.\n",
    "xform_nmo = AdiabaticMSW()\n",
    "\n",
    "# Energy array and time to compute spectra.\n",
    "# Note that any convenient units can be used and the calculation will remain internally consistent.\n",
    "E = np.linspace(0,100,201) * u.MeV\n",
    "t = 400*u.ms\n",
    "\n",
    "ispec = model.get_initial_spectra(t, E)\n",
    "ospec_nmo = model.get_transformed_spectra(t, E, xform_nmo)"
   ]
  },
  {
   "cell_type": "code",
   "execution_count": null,
   "metadata": {},
   "outputs": [],
   "source": [
    "fig, axes = plt.subplots(1,2, figsize=(12,5), sharex=True, sharey=True, tight_layout=True)\n",
    "\n",
    "for i, spec in enumerate([ispec, ospec_nmo]):\n",
    "    ax = axes[i]\n",
    "    for flavor in Flavor:\n",
    "        ax.plot(E, spec[flavor],\n",
    "                label=flavor.to_tex(),\n",
    "                color='C0' if flavor.is_electron else 'C1',\n",
    "                ls='-' if flavor.is_neutrino else ':', lw=2,\n",
    "                alpha=0.7)\n",
    "\n",
    "    ax.set(xlabel=r'$E$ [{}]'.format(E.unit),\n",
    "           title='Initial Spectra: $t = ${:.1f}'.format(t) if i==0 else 'Oscillated Spectra: $t = ${:.1f}'.format(t))\n",
    "    ax.grid()\n",
    "    ax.legend(loc='upper right', ncol=2, fontsize=16)\n",
    "\n",
    "ax = axes[0]\n",
    "ax.set(ylabel=r'flux [erg$^{-1}$ s$^{-1}$]')\n",
    "\n",
    "fig.tight_layout();"
   ]
  }
 ],
 "metadata": {
  "kernelspec": {
   "display_name": "Python 3.9.5 ('snews')",
   "language": "python",
   "name": "python3"
  },
  "language_info": {
   "codemirror_mode": {
    "name": "ipython",
    "version": 3
   },
   "file_extension": ".py",
   "mimetype": "text/x-python",
   "name": "python",
   "nbconvert_exporter": "python",
   "pygments_lexer": "ipython3",
   "version": "3.9.5"
  },
  "vscode": {
   "interpreter": {
    "hash": "e2528887d751495e023d57d695389d9a04f4c4d2e5866aaf6dc03a1ed45c573e"
   }
  }
 },
 "nbformat": 4,
 "nbformat_minor": 2
}
