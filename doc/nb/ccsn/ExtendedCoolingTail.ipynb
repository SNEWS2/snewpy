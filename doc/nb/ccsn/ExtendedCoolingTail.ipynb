{
 "cells": [
  {
   "cell_type": "code",
   "execution_count": null,
   "id": "18341676-5496-4da6-a722-7e730791387a",
   "metadata": {},
   "outputs": [],
   "source": [
    "from snewpy.models.ccsn import Nakazato_2013\n",
    "from snewpy.models.extended import ExtendedModel\n",
    "from snewpy.neutrino import Flavor, MassHierarchy\n",
    "\n",
    "from astropy import units as u\n",
    "\n",
    "import numpy as np\n",
    "import matplotlib.pyplot as plt"
   ]
  },
  {
   "cell_type": "markdown",
   "id": "944473f5-309f-4d65-b857-99f07d496a37",
   "metadata": {},
   "source": [
    "## Model Initialization\n",
    "\n",
    "Let's use a model from the `Nakazato_2013` family of simulations. There are many model parameters to choose from:"
   ]
  },
  {
   "cell_type": "code",
   "execution_count": null,
   "id": "5a329b2c-58be-42d5-be06-70d0afebb633",
   "metadata": {},
   "outputs": [],
   "source": [
    "Nakazato_2013.param"
   ]
  },
  {
   "cell_type": "markdown",
   "id": "11432208-7c45-46d7-b1dc-6bf6d52d0b31",
   "metadata": {},
   "source": [
    "Since there are many valid and invalid combinations of parameters available, we will generate a list of valid parameters using the class function `get_param_combinations` and then select one of the particular models for plotting.\n",
    "\n",
    "It is not really important which model we choose, so we'll pick a large metallicity model (high $Z$)."
   ]
  },
  {
   "cell_type": "code",
   "execution_count": null,
   "id": "62291165-b6db-4dab-b80a-d45058583a83",
   "metadata": {},
   "outputs": [],
   "source": [
    "highZ_models = list(params for params in Nakazato_2013.get_param_combinations() if params['metallicity'] == 0.02)"
   ]
  },
  {
   "cell_type": "markdown",
   "id": "2d791680-42ec-4910-9c40-07749938156a",
   "metadata": {},
   "source": [
    "This should be equivalent to the initialization:\n",
    "```\n",
    "model = Nakazato_2013(progenitor_mass=20<<u.solMass, revival_time=100<<u.ms, metallicity=0.02, eos='shen')\n",
    "```"
   ]
  },
  {
   "cell_type": "code",
   "execution_count": null,
   "id": "a6a5e088-e08f-479d-8b77-d9e902b0bd79",
   "metadata": {},
   "outputs": [],
   "source": [
    "model_params = highZ_models[3]\n",
    "model = Nakazato_2013(**model_params)\n",
    "model"
   ]
  },
  {
   "cell_type": "markdown",
   "id": "0adb675d-9aa9-4ecf-80c3-0090d0025137",
   "metadata": {},
   "source": [
    "Plot the model neutrino luminosity versus time."
   ]
  },
  {
   "cell_type": "code",
   "execution_count": null,
   "id": "32e1b658-987b-4053-8caf-f55c8f63b647",
   "metadata": {},
   "outputs": [],
   "source": [
    "fig, ax = plt.subplots(1, figsize=(8,6), tight_layout=False)\n",
    "\n",
    "for flavor in Flavor:\n",
    "    ax.plot(model.time, model.luminosity[flavor]/1e51, # Report luminosity in units foe/s\n",
    "            label=flavor.to_tex(),\n",
    "            color = 'C0' if flavor.is_electron else 'C1',\n",
    "            ls = '-' if flavor.is_neutrino else ':',\n",
    "            lw = 2 )\n",
    "\n",
    "ax.set(xlim=(-0.05, 100),\n",
    "       # xscale='log',\n",
    "       xlabel=r'$t-t_{\\rm bounce}$ [s]',\n",
    "       ylabel=r'luminosity [foe s$^{-1}$]',\n",
    "       yscale='log')\n",
    "ax.grid()\n",
    "ax.legend(loc='upper right', ncol=2, fontsize=18);"
   ]
  },
  {
   "cell_type": "code",
   "execution_count": null,
   "id": "c25465ef-53be-42e7-ba9d-7b20f47fdaad",
   "metadata": {},
   "outputs": [],
   "source": [
    "model_ext = ExtendedModel(model)\n",
    "model_ext.extend(np.logspace(0,2,1000)*u.s)"
   ]
  },
  {
   "cell_type": "code",
   "execution_count": null,
   "id": "6ffad09c-7472-452f-a596-ee684db735e5",
   "metadata": {},
   "outputs": [],
   "source": [
    "fig, ax = plt.subplots(1, figsize=(8,6), tight_layout=False)\n",
    "\n",
    "for flavor in Flavor:\n",
    "    # ax.plot(model.time, model.luminosity[flavor]/1e51)\n",
    "    ax.plot(model_ext.time, model_ext.luminosity[flavor]/1e51, # Report luminosity in units foe/s\n",
    "            label=flavor.to_tex(),\n",
    "            color = 'C0' if flavor.is_electron else 'C1',\n",
    "            ls = '-' if flavor.is_neutrino else ':',\n",
    "            lw = 2 )\n",
    "\n",
    "ax.set(xlim=(-0.05, 100),\n",
    "       # xscale='log',\n",
    "       xlabel=r'$t-t_{\\rm bounce}$ [s]',\n",
    "       ylabel=r'luminosity [foe s$^{-1}$]',\n",
    "       yscale='log')\n",
    "ax.grid()\n",
    "ax.legend(loc='upper right', ncol=2, fontsize=18);"
   ]
  }
 ],
 "metadata": {
  "kernelspec": {
   "display_name": "snewpy",
   "language": "python",
   "name": "python3"
  },
  "language_info": {
   "codemirror_mode": {
    "name": "ipython",
    "version": 3
   },
   "file_extension": ".py",
   "mimetype": "text/x-python",
   "name": "python",
   "nbconvert_exporter": "python",
   "pygments_lexer": "ipython3",
   "version": "3.13.2"
  }
 },
 "nbformat": 4,
 "nbformat_minor": 5
}
