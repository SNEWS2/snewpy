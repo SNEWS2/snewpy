{
 "cells": [
  {
   "cell_type": "markdown",
   "source": [
    "# `snewpy.snowglobes` Usage Example\n",
    "\n",
    "This notebook demonstrates how to use SNEWPY with SNOwGLoBES.\n",
    "\n",
    "To start, make sure you have SNOwGLoBES installed and have downloaded one of the models that are part of SNEWPY. Adjust the directory paths in the following cell."
   ],
   "metadata": {}
  },
  {
   "cell_type": "code",
   "execution_count": 1,
   "source": [
    "from astropy import units as u\n",
    "import matplotlib.pyplot as plt\n",
    "import numpy as np\n",
    "\n",
    "from snewpy import snowglobes\n",
    "\n",
    "SNOwGLoBES_path = \"/path/to/snowglobes/\"  # where SNOwGLoBES is located\n",
    "SNEWPY_models_base = \"/path/to/snewpy/models/\"  # directory containing SNEWPY models"
   ],
   "outputs": [],
   "metadata": {}
  },
  {
   "cell_type": "markdown",
   "source": [
    "Next, we will set up some basic parameters for the supernova we want to simulate."
   ],
   "metadata": {}
  },
  {
   "cell_type": "code",
   "execution_count": 2,
   "source": [
    "# set distance in kpc\n",
    "distance = 10\n",
    "\n",
    "# set SNOwGLoBES detector to use\n",
    "detector = \"icecube\"\n",
    "\n",
    "# set SNEWPY model type and filename\n",
    "modeltype = 'Zha_2021'\n",
    "model = 's17'\n",
    "\n",
    "# set desired flavor transformation\n",
    "transformation = 'AdiabaticMSW_NMO'\n",
    "\n",
    "# Construct file system path of model file and name of output file\n",
    "# The output file will be stored in the same directory as the model file.\n",
    "modelfile = SNEWPY_models_base + \"/\" + modeltype + \"/\" + model + '.dat'\n",
    "outfile = modeltype+\"_\"+model+\"_\"+transformation\n",
    "\n",
    "# There are three ways to select a time range.\n",
    "# Option 1 - don't specify tstart and tend, then the whole model is integrated\n",
    "#tstart = None\n",
    "#tend = None\n",
    "\n",
    "# Option 2 - specify single tstart and tend, this makes 1 fluence file integrated over the window\n",
    "#tstart = 0.7 * u.s\n",
    "#tend = 0.8 * u.s\n",
    "\n",
    "# Option 3 = specify sequence of time intervals, one fluence file is made for each interval\n",
    "window_tstart = 0.742\n",
    "window_tend = 0.762\n",
    "window_bins = 60\n",
    "tstart = np.linspace(window_tstart, window_tend, window_bins, endpoint=False) * u.s\n",
    "tend = tstart + (window_tend - window_tstart) / window_bins * u.s\n",
    "tmid = (tstart + tend) * 0.5"
   ],
   "outputs": [],
   "metadata": {}
  },
  {
   "cell_type": "markdown",
   "source": [
    "Now that everything’s set up, let’s start using SNOwGLoBES! Be patient—these three steps together may take a few minutes."
   ],
   "metadata": {}
  },
  {
   "cell_type": "code",
   "execution_count": 3,
   "source": [
    "# snowglobes.generate_fluence integrates the model over the specified time window(s)\n",
    "# and generates input files for SNOwGLoBES. It returns the full file path of the output file.\n",
    "print(\"Preparing fluences ...\")\n",
    "tarredfile = snowglobes.generate_fluence(modelfile, modeltype, transformation, distance, outfile, tstart, tend)\n",
    "\n",
    "# Next, we run SNOwGLoBES. This will loop over all the fluence files in `tarredfile`.\n",
    "print(\"Running SNOwGLoBES ...\")\n",
    "snowglobes.simulate(SNOwGLoBES_path, tarredfile, detector_input=detector)\n",
    "\n",
    "# Finally, we collate SNOwGLoBES’ results into a dictionary\n",
    "print(\"Collating results ...\")\n",
    "tables = snowglobes.collate(SNOwGLoBES_path, tarredfile, skip_plots=True)"
   ],
   "outputs": [
    {
     "output_type": "stream",
     "name": "stdout",
     "text": [
      "Preparing fluences ...\n",
      "Running SNOwGLoBES ...\n",
      "Calculations are 10.0% completed. ( 6  of  60 )\n",
      "Calculations are 20.0% completed. ( 12  of  60 )\n",
      "Calculations are 30.0% completed. ( 18  of  60 )\n",
      "Calculations are 40.0% completed. ( 24  of  60 )\n",
      "Calculations are 50.0% completed. ( 30  of  60 )\n",
      "Calculations are 60.0% completed. ( 36  of  60 )\n",
      "Calculations are 70.0% completed. ( 42  of  60 )\n",
      "Calculations are 80.0% completed. ( 48  of  60 )\n",
      "Calculations are 90.0% completed. ( 54  of  60 )\n",
      "Calculations are 100.0% completed. ( 60  of  60 )\n",
      "Collating results ...\n"
     ]
    }
   ],
   "metadata": {}
  },
  {
   "cell_type": "markdown",
   "source": [
    "Finally, since we chose option 3 above, and calculated the fluence in 60 time bins, we can now plot the event counts over time."
   ],
   "metadata": {}
  },
  {
   "cell_type": "code",
   "execution_count": 5,
   "source": [
    "%matplotlib inline\n",
    "nevents = np.zeros(len(tmid))\n",
    "for i in range(len(tmid)):\n",
    "    key = f\"Collated_{outfile}_{i}_{detector}_events_smeared_weighted.dat\"\n",
    "    for j in range(1,len(tables[key]['header'].split())):\n",
    "        nevents[i] += sum(tables[key]['data'][j])\n",
    "\n",
    "# nevents is per bin, convert to per ms\n",
    "factor = window_bins / (window_tend - window_tstart) / 1000\n",
    "\n",
    "plt.plot(tmid - 0.742 * u.s, nevents * factor)\n",
    "plt.xlabel(\"$t-t_{2c}$ [s]\")\n",
    "plt.ylabel(\"Counts [ms$^{-1}$]\")\n",
    "plt.show()\n",
    "# compare to Figure 5 of Zha et al. (2021)\n",
    "print(\"Total Events:\", sum(nevents))"
   ],
   "outputs": [
    {
     "output_type": "display_data",
     "data": {
      "image/png": "[encoded data removed]",
      "text/plain": [
       "<Figure size 432x288 with 1 Axes>"
      ]
     },
     "metadata": {
      "needs_background": "light"
     }
    },
    {
     "output_type": "stream",
     "name": "stdout",
     "text": [
      "Total Events: 17459.043408289574\n"
     ]
    }
   ],
   "metadata": {}
  }
 ],
 "metadata": {
  "kernelspec": {
   "name": "python3",
   "display_name": "Python 3.9.5 64-bit ('snews': conda)"
  },
  "language_info": {
   "codemirror_mode": {
    "name": "ipython",
    "version": 3
   },
   "file_extension": ".py",
   "mimetype": "text/x-python",
   "name": "python",
   "nbconvert_exporter": "python",
   "pygments_lexer": "ipython3",
   "version": "3.9.5"
  },
  "interpreter": {
   "hash": "12a4e164d15418f42fe0584c567a58ace9669f8a11b564e22ebd17e6959ef919"
  }
 },
 "nbformat": 4,
 "nbformat_minor": 4
}